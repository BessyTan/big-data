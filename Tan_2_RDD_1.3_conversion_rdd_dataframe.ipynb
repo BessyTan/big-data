{
 "cells": [
  {
   "cell_type": "markdown",
   "id": "1c7f775e-73c8-492a-a827-c4dd6696af1f",
   "metadata": {},
   "source": [
    "## RDD 1.3 Convert between RDD and Dataframe"
   ]
  },
  {
   "cell_type": "code",
   "execution_count": 1,
   "id": "ef91e96f-1d2b-44c9-b81e-c8f8e167a7d4",
   "metadata": {},
   "outputs": [],
   "source": [
    "import findspark\n",
    "findspark.init()"
   ]
  },
  {
   "cell_type": "code",
   "execution_count": 2,
   "id": "b157481f-e305-4b22-a365-e414119c107b",
   "metadata": {},
   "outputs": [
    {
     "name": "stderr",
     "output_type": "stream",
     "text": [
      "Setting default log level to \"WARN\".\n",
      "To adjust logging level use sc.setLogLevel(newLevel). For SparkR, use setLogLevel(newLevel).\n",
      "25/01/24 18:43:02 WARN NativeCodeLoader: Unable to load native-hadoop library for your platform... using builtin-java classes where applicable\n",
      "25/01/24 18:43:03 WARN Utils: Service 'SparkUI' could not bind on port 4040. Attempting port 4041.\n",
      "25/01/24 18:43:03 WARN Utils: Service 'SparkUI' could not bind on port 4041. Attempting port 4042.\n"
     ]
    }
   ],
   "source": [
    "# create entry points to spark\n",
    "try:\n",
    "    sc.stop()\n",
    "except:\n",
    "    pass\n",
    "from pyspark import SparkContext, SparkConf\n",
    "from pyspark.sql import SparkSession\n",
    "sc = SparkContext()\n",
    "spark = SparkSession(sparkContext=sc)"
   ]
  },
  {
   "cell_type": "code",
   "execution_count": 3,
   "id": "355afb08-982f-4f69-8baa-24ec888aff1e",
   "metadata": {},
   "outputs": [
    {
     "name": "stderr",
     "output_type": "stream",
     "text": [
      "                                                                                \r"
     ]
    }
   ],
   "source": [
    "mtcars = spark.read.csv(path='/notebooks/Data/SparkData/mtcars.csv',\n",
    "                        sep=',',\n",
    "                        encoding='UTF-8',\n",
    "                        comment=None,\n",
    "                        header=True,\n",
    "                        inferSchema=True)                       "
   ]
  },
  {
   "cell_type": "code",
   "execution_count": 4,
   "id": "08be3f19-519c-471a-a22b-f6b943307662",
   "metadata": {},
   "outputs": [
    {
     "name": "stderr",
     "output_type": "stream",
     "text": [
      "25/01/24 18:46:34 WARN CSVHeaderChecker: CSV header does not conform to the schema.\n",
      " Header: , mpg, cyl, disp, hp, drat, wt, qsec, vs, am, gear, carb\n",
      " Schema: _c0, mpg, cyl, disp, hp, drat, wt, qsec, vs, am, gear, carb\n",
      "Expected: _c0 but found: \n",
      "CSV file: file:///notebooks/Data/SparkData/mtcars.csv\n",
      "                                                                                \r"
     ]
    },
    {
     "data": {
      "text/plain": [
       "[Row(_c0='Mazda RX4', mpg=21.0, cyl=6, disp=160.0, hp=110, drat=3.9, wt=2.62, qsec=16.46, vs=0, am=1, gear=4, carb=4),\n",
       " Row(_c0='Mazda RX4 Wag', mpg=21.0, cyl=6, disp=160.0, hp=110, drat=3.9, wt=2.875, qsec=17.02, vs=0, am=1, gear=4, carb=4)]"
      ]
     },
     "execution_count": 4,
     "metadata": {},
     "output_type": "execute_result"
    }
   ],
   "source": [
    "mtcars.rdd.take(2)"
   ]
  },
  {
   "cell_type": "code",
   "execution_count": 5,
   "id": "73db9d64-2dd0-434b-bda2-10ac081d40f3",
   "metadata": {},
   "outputs": [
    {
     "name": "stderr",
     "output_type": "stream",
     "text": [
      "25/01/24 18:47:53 WARN CSVHeaderChecker: CSV header does not conform to the schema.\n",
      " Header: , mpg, cyl, disp, hp, drat, wt, qsec, vs, am, gear, carb\n",
      " Schema: _c0, mpg, cyl, disp, hp, drat, wt, qsec, vs, am, gear, carb\n",
      "Expected: _c0 but found: \n",
      "CSV file: file:///notebooks/Data/SparkData/mtcars.csv\n"
     ]
    },
    {
     "data": {
      "text/plain": [
       "[('Mazda RX4', 21.0),\n",
       " ('Mazda RX4 Wag', 21.0),\n",
       " ('Datsun 710', 22.8),\n",
       " ('Hornet 4 Drive', 21.4),\n",
       " ('Hornet Sportabout', 18.7)]"
      ]
     },
     "execution_count": 5,
     "metadata": {},
     "output_type": "execute_result"
    }
   ],
   "source": [
    "mtcars_map = mtcars.rdd.map(lambda x: (x['_c0'], x['mpg']))\n",
    "mtcars_map.take(5)"
   ]
  },
  {
   "cell_type": "code",
   "execution_count": 7,
   "id": "b96fe091-4548-4555-aa8f-7492c5fdb941",
   "metadata": {},
   "outputs": [
    {
     "name": "stderr",
     "output_type": "stream",
     "text": [
      "25/01/24 18:53:49 WARN CSVHeaderChecker: CSV header does not conform to the schema.\n",
      " Header: , mpg, cyl, disp, hp, drat, wt, qsec, vs, am, gear, carb\n",
      " Schema: _c0, mpg, cyl, disp, hp, drat, wt, qsec, vs, am, gear, carb\n",
      "Expected: _c0 but found: \n",
      "CSV file: file:///notebooks/Data/SparkData/mtcars.csv\n"
     ]
    },
    {
     "data": {
      "text/plain": [
       "[('Mazda RX4', [21.0, 210.0]),\n",
       " ('Mazda RX4 Wag', [21.0, 210.0]),\n",
       " ('Datsun 710', [22.8, 228.0]),\n",
       " ('Hornet 4 Drive', [21.4, 214.0]),\n",
       " ('Hornet Sportabout', [18.7, 187.0])]"
      ]
     },
     "execution_count": 7,
     "metadata": {},
     "output_type": "execute_result"
    }
   ],
   "source": [
    "mtcars_mapvalues = mtcars_map.mapValues(lambda x: [x, x * 10])\n",
    "mtcars_mapvalues.take(5)"
   ]
  },
  {
   "cell_type": "code",
   "execution_count": 8,
   "id": "c6cfb106-3a9f-41fa-8cf7-a9b8b2f60ab9",
   "metadata": {},
   "outputs": [
    {
     "data": {
      "text/plain": [
       "[',mpg,cyl,disp,hp,drat,wt,qsec,vs,am,gear,carb',\n",
       " 'Mazda RX4,21,6,160,110,3.9,2.62,16.46,0,1,4,4',\n",
       " 'Mazda RX4 Wag,21,6,160,110,3.9,2.875,17.02,0,1,4,4',\n",
       " 'Datsun 710,22.8,4,108,93,3.85,2.32,18.61,1,1,4,1',\n",
       " 'Hornet 4 Drive,21.4,6,258,110,3.08,3.215,19.44,1,0,3,1']"
      ]
     },
     "execution_count": 8,
     "metadata": {},
     "output_type": "execute_result"
    }
   ],
   "source": [
    "rdd_raw = sc.textFile('/notebooks/Data/SparkData/mtcars.csv')\n",
    "rdd_raw.take(5)"
   ]
  },
  {
   "cell_type": "code",
   "execution_count": 9,
   "id": "4d9f0826-2e22-4356-b557-7aa350ca5400",
   "metadata": {},
   "outputs": [
    {
     "data": {
      "text/plain": [
       "['model',\n",
       " 'mpg',\n",
       " 'cyl',\n",
       " 'disp',\n",
       " 'hp',\n",
       " 'drat',\n",
       " 'wt',\n",
       " 'qsec',\n",
       " 'vs',\n",
       " 'am',\n",
       " 'gear',\n",
       " 'carb']"
      ]
     },
     "execution_count": 9,
     "metadata": {},
     "output_type": "execute_result"
    }
   ],
   "source": [
    "header = rdd_raw.map(lambda x: x.split(',')).filter(lambda x: x[1] == 'mpg').collect()[0]\n",
    "header[0] = 'model'\n",
    "header"
   ]
  },
  {
   "cell_type": "code",
   "execution_count": 10,
   "id": "7f3464d7-a023-464b-b435-47293f0c4865",
   "metadata": {},
   "outputs": [
    {
     "data": {
      "text/plain": [
       "[['Mazda RX4',\n",
       "  '21',\n",
       "  '6',\n",
       "  '160',\n",
       "  '110',\n",
       "  '3.9',\n",
       "  '2.62',\n",
       "  '16.46',\n",
       "  '0',\n",
       "  '1',\n",
       "  '4',\n",
       "  '4'],\n",
       " ['Mazda RX4 Wag',\n",
       "  '21',\n",
       "  '6',\n",
       "  '160',\n",
       "  '110',\n",
       "  '3.9',\n",
       "  '2.875',\n",
       "  '17.02',\n",
       "  '0',\n",
       "  '1',\n",
       "  '4',\n",
       "  '4']]"
      ]
     },
     "execution_count": 10,
     "metadata": {},
     "output_type": "execute_result"
    }
   ],
   "source": [
    "rdd = rdd_raw.map(lambda x: x.split(',')).filter(lambda x: x[1] != 'mpg')\n",
    "rdd.take(2)"
   ]
  },
  {
   "cell_type": "code",
   "execution_count": 12,
   "id": "5b3bc9e2-5ca8-4849-8377-1f46b419c35e",
   "metadata": {},
   "outputs": [
    {
     "data": {
      "text/plain": [
       "Row(a=1, b=2, c=3)"
      ]
     },
     "execution_count": 12,
     "metadata": {},
     "output_type": "execute_result"
    }
   ],
   "source": [
    "# Convert RDD elements to RDD Row objects\n",
    "'''\n",
    "First we define a function which takes a list of column names and a list of values and \n",
    "create a Row of key-valuepairs. Since keys in a Row object are variable names, \n",
    "we can't simply pass a dictionary to the Row() function. We can think of a dictionary \n",
    "as an argument list and use the ** to unpack the argument list.\n",
    "See an example\n",
    "'''\n",
    "from pyspark.sql import Row\n",
    "my_dict = dict(zip(['a', 'b', 'c'], range(1, 4)))\n",
    "Row(**my_dict)"
   ]
  },
  {
   "cell_type": "code",
   "execution_count": 13,
   "id": "6a83cbc7-9875-45ca-9758-77caf06eaef9",
   "metadata": {},
   "outputs": [],
   "source": [
    "# Let's define a function\n",
    "def list_to_row(keys, values):\n",
    "    row_dict = dict(zip(keys, values))\n",
    "    return Row(**row_dict)"
   ]
  },
  {
   "cell_type": "code",
   "execution_count": 14,
   "id": "2d4142f3-ae6e-448b-b488-6d9a8ea57a63",
   "metadata": {},
   "outputs": [
    {
     "data": {
      "text/plain": [
       "[Row(model='Mazda RX4', mpg='21', cyl='6', disp='160', hp='110', drat='3.9', wt='2.62', qsec='16.46', vs='0', am='1', gear='4', carb='4'),\n",
       " Row(model='Mazda RX4 Wag', mpg='21', cyl='6', disp='160', hp='110', drat='3.9', wt='2.875', qsec='17.02', vs='0', am='1', gear='4', carb='4'),\n",
       " Row(model='Datsun 710', mpg='22.8', cyl='4', disp='108', hp='93', drat='3.85', wt='2.32', qsec='18.61', vs='1', am='1', gear='4', carb='1')]"
      ]
     },
     "execution_count": 14,
     "metadata": {},
     "output_type": "execute_result"
    }
   ],
   "source": [
    "rdd_rows = rdd.map(lambda x: list_to_row(header, x))\n",
    "rdd_rows.take(3)"
   ]
  },
  {
   "cell_type": "code",
   "execution_count": null,
   "id": "189b4628-9256-4724-a390-1c55aa77492b",
   "metadata": {},
   "outputs": [],
   "source": [
    "# Now we can convert the RDD to a Data"
   ]
  }
 ],
 "metadata": {
  "kernelspec": {
   "display_name": "Python 3 (ipykernel)",
   "language": "python",
   "name": "python3"
  },
  "language_info": {
   "codemirror_mode": {
    "name": "ipython",
    "version": 3
   },
   "file_extension": ".py",
   "mimetype": "text/x-python",
   "name": "python",
   "nbconvert_exporter": "python",
   "pygments_lexer": "ipython3",
   "version": "3.9.18"
  }
 },
 "nbformat": 4,
 "nbformat_minor": 5
}
