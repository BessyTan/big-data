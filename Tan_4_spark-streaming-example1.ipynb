{
 "cells": [
  {
   "cell_type": "code",
   "execution_count": null,
   "id": "5ef0e095-ae33-48c0-8bf9-a749c23ce769",
   "metadata": {},
   "outputs": [],
   "source": [
    "import findspark                     # initializes Spark environment\n",
    "findspark.init()\n",
    "import pyspark"
   ]
  },
  {
   "cell_type": "code",
   "execution_count": null,
   "id": "43b7d886-3f96-43cf-8fd4-e5ebc9b69a04",
   "metadata": {},
   "outputs": [],
   "source": [
    "from pyspark import SparkConf, SparkContext      # for configuring Spark and intialize the connection\n",
    "from pyspark.streaming import StreamingContext   # for processing real-time streaming data   \n",
    "from pyspark.sql import Row, SQLContext          # for structured data and SQL queries in Spark\n",
    "import sys                                       # for python runtime environment and command-line\n",
    "import requests                                  # for sending HTTP requests"
   ]
  },
  {
   "cell_type": "code",
   "execution_count": null,
   "id": "4522e0c6-7901-4dd0-994f-2f5a4cbe132e",
   "metadata": {},
   "outputs": [],
   "source": [
    "import socket                                    # for open a socket connection\n",
    "host = socket.gethostname()                      # as both code is running on same pc\n",
    "port = 21001"
   ]
  },
  {
   "cell_type": "code",
   "execution_count": null,
   "id": "82462047-14eb-4249-9604-aba5b533fa97",
   "metadata": {},
   "outputs": [],
   "source": [
    "sc = SparkContext(\"local[2]\", \"NetworkWordCount\") # create SparkContext using 2 threads and job \"NetwookWordCount\"\n",
    "ssc = StreamingContext(sc, 1)                     # processes data in 1-second windows\n",
    "# create a DStram that will connect to hostname:port, like localhost:9999\n",
    "lines = ssc.socketTextStream(host, port)"
   ]
  },
  {
   "cell_type": "code",
   "execution_count": null,
   "id": "fea72996-449e-4908-bc89-da925401b0eb",
   "metadata": {},
   "outputs": [],
   "source": [
    "words = lines.flatMap(lambda _:_.split(\" \"))      # split each line into words and flatten the resulting list\n",
    "pairs = words.map(lambda word: (word, 1))         # map word to a tuple of (word, 1) where 1 represents its occurrence\n",
    "wordCounts = pairs.reduceByKey(lambda x,y: x+y)   # reduce by key(word) to count the occurrence of each word"
   ]
  },
  {
   "cell_type": "code",
   "execution_count": null,
   "id": "da380ef0-3b0f-4b3b-af8e-dad87b715d50",
   "metadata": {},
   "outputs": [],
   "source": [
    "wordCounts.pprint()                               # print word counts \n",
    "ssc.start()                                       # start the computation\n",
    "ssc.awaitTermination()                            # wait for the computation to terminate"
   ]
  }
 ],
 "metadata": {
  "kernelspec": {
   "display_name": "Python 3 (ipykernel)",
   "language": "python",
   "name": "python3"
  },
  "language_info": {
   "codemirror_mode": {
    "name": "ipython",
    "version": 3
   },
   "file_extension": ".py",
   "mimetype": "text/x-python",
   "name": "python",
   "nbconvert_exporter": "python",
   "pygments_lexer": "ipython3",
   "version": "3.9.18"
  }
 },
 "nbformat": 4,
 "nbformat_minor": 5
}
