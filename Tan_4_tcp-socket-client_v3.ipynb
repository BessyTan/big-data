{
 "cells": [
  {
   "cell_type": "code",
   "execution_count": 2,
   "id": "56b16fe0-2b57-45d1-931b-7dd1456e2ea5",
   "metadata": {},
   "outputs": [
    {
     "data": {
      "text/plain": [
       "'\\nThis is a socket client program that connects to a socket server, \\nrecieves random CSV lines sent by the server with spark streaming \\nand prints them to the terminal.\\nIt continues to receive messages until the user types \"bye\" to stop the connection  \\n'"
      ]
     },
     "execution_count": 2,
     "metadata": {},
     "output_type": "execute_result"
    }
   ],
   "source": [
    "'''\n",
    "This is a socket client program that connects to a socket server, \n",
    "recieves random CSV lines sent by the server with spark streaming \n",
    "and prints them to the terminal.\n",
    "It continues to receive messages until the user types \"bye\" to stop the connection  \n",
    "'''"
   ]
  },
  {
   "cell_type": "code",
   "execution_count": 3,
   "id": "0287ae36-fe65-49cd-a14e-f0ba763bf4d9",
   "metadata": {},
   "outputs": [],
   "source": [
    "import socket\n",
    "# get the hostname of the current machine, both server and client are running on the same pc\n",
    "host = socket.gethostname()      \n",
    "port = 21001                                      # port number socket server will listen on"
   ]
  },
  {
   "cell_type": "code",
   "execution_count": 4,
   "id": "95d34c32-6ee8-40d2-8afa-63197f962171",
   "metadata": {},
   "outputs": [],
   "source": [
    "# to solve the blocking input call which stops the client from receiving data from the server while waiting for the user input\n",
    "# use multithreading handle the user input and continue receiving and printing data from the server in a separate thread"
   ]
  },
  {
   "cell_type": "code",
   "execution_count": 5,
   "id": "32541d4b-60ba-4f55-bd7d-4f1a4943e8c5",
   "metadata": {},
   "outputs": [],
   "source": [
    "listen_flag = True                               # global flag to indicate whether the listener should continue"
   ]
  },
  {
   "cell_type": "code",
   "execution_count": 6,
   "id": "951f9070-115d-4eba-884c-4ef68c0d7f40",
   "metadata": {},
   "outputs": [],
   "source": [
    "# listen for data from the server\n",
    "def listen_for_data(client_socket):\n",
    "    global listen_flag\n",
    "    while listen_flag:\n",
    "        try:\n",
    "            data = clientSocket.recv(1024).decode() # receive response up tp 1024 bytes of data and decode\n",
    "            if data:\n",
    "                print(f\"Server: {data}\")         # show in termianl\n",
    "            else:\n",
    "                print(\"No data received\")\n",
    "                break\n",
    "        except Exception as e:\n",
    "            print(f\"Error receiving data: {e}\")\n",
    "            break     "
   ]
  },
  {
   "cell_type": "code",
   "execution_count": 7,
   "id": "e5efea69-02ab-45f9-a4bd-ddb84452d981",
   "metadata": {},
   "outputs": [],
   "source": [
    "# send user input and check for 'bye'\n",
    "def handle_user_input(client_socket):\n",
    "    global listen_flag\n",
    "    while True:\n",
    "        msg = input(\"(to stop, enter 'bye')->\")\n",
    "        if msg.lower().strip() == 'bye':\n",
    "            listen_flag = False                   # stop the listener thread\n",
    "            client_socket.send('bye'.encode())    # send 'bye' to server\n",
    "            print(\"Client shutting down...\")\n",
    "            break\n",
    "        else:\n",
    "            pass"
   ]
  },
  {
   "cell_type": "code",
   "execution_count": 8,
   "id": "df8d2405-79c4-4666-8aa1-b25e06885cf6",
   "metadata": {},
   "outputs": [],
   "source": [
    "# set up the client socket and initiate threads\n",
    "clientSocket = socket.socket()                    # instantiate\n",
    "clientSocket.connect((host, port))                # connect to the server using the host and port"
   ]
  },
  {
   "cell_type": "code",
   "execution_count": 1,
   "id": "6d1c0521-8377-4e61-a422-dbf663a11778",
   "metadata": {},
   "outputs": [
    {
     "ename": "NameError",
     "evalue": "name 'listen_for_data' is not defined",
     "output_type": "error",
     "traceback": [
      "\u001b[0;31m---------------------------------------------------------------------------\u001b[0m",
      "\u001b[0;31mNameError\u001b[0m                                 Traceback (most recent call last)",
      "Cell \u001b[0;32mIn[1], line 3\u001b[0m\n\u001b[1;32m      1\u001b[0m \u001b[38;5;28;01mimport\u001b[39;00m \u001b[38;5;21;01mthreading\u001b[39;00m\n\u001b[1;32m      2\u001b[0m \u001b[38;5;66;03m# start a thread to listen for server data\u001b[39;00m\n\u001b[0;32m----> 3\u001b[0m threading\u001b[38;5;241m.\u001b[39mThread(target\u001b[38;5;241m=\u001b[39m\u001b[43mlisten_for_data\u001b[49m, args\u001b[38;5;241m=\u001b[39m(clientSocket,), daemon\u001b[38;5;241m=\u001b[39m\u001b[38;5;28;01mTrue\u001b[39;00m)\u001b[38;5;241m.\u001b[39mstart()\n",
      "\u001b[0;31mNameError\u001b[0m: name 'listen_for_data' is not defined"
     ]
    }
   ],
   "source": [
    "import threading\n",
    "# start a thread to listen for server data\n",
    "threading.Thread(target=listen_for_data, args=(clientSocket,), daemon=True).start()"
   ]
  },
  {
   "cell_type": "code",
   "execution_count": 8,
   "id": "332d95bd-243f-4e95-a87b-c5346b934e77",
   "metadata": {},
   "outputs": [
    {
     "name": "stdin",
     "output_type": "stream",
     "text": [
      "(to stop, enter 'bye')->  bye\n"
     ]
    },
    {
     "name": "stdout",
     "output_type": "stream",
     "text": [
      "Client shutting down...\n"
     ]
    }
   ],
   "source": [
    "# handle user input\n",
    "handle_user_input(clientSocket)"
   ]
  },
  {
   "cell_type": "code",
   "execution_count": 9,
   "id": "5df223e8-cc75-4414-a5f5-2f72ad684b0f",
   "metadata": {},
   "outputs": [],
   "source": [
    "clientSocket.close()                           # close the socket connection"
   ]
  },
  {
   "cell_type": "code",
   "execution_count": null,
   "id": "fbd92e92-07d0-45fd-ac3a-9067253d47ca",
   "metadata": {},
   "outputs": [],
   "source": []
  }
 ],
 "metadata": {
  "kernelspec": {
   "display_name": "Python 3 (ipykernel)",
   "language": "python",
   "name": "python3"
  },
  "language_info": {
   "codemirror_mode": {
    "name": "ipython",
    "version": 3
   },
   "file_extension": ".py",
   "mimetype": "text/x-python",
   "name": "python",
   "nbconvert_exporter": "python",
   "pygments_lexer": "ipython3",
   "version": "3.9.18"
  }
 },
 "nbformat": 4,
 "nbformat_minor": 5
}
