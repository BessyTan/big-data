{
 "cells": [
  {
   "cell_type": "code",
   "execution_count": 1,
   "id": "19c494ce-1669-4731-a930-3aa9c9e6acee",
   "metadata": {},
   "outputs": [
    {
     "name": "stderr",
     "output_type": "stream",
     "text": [
      "Setting default log level to \"WARN\".\n",
      "To adjust logging level use sc.setLogLevel(newLevel). For SparkR, use setLogLevel(newLevel).\n",
      "25/02/07 19:43:07 WARN NativeCodeLoader: Unable to load native-hadoop library for your platform... using builtin-java classes where applicable\n"
     ]
    }
   ],
   "source": [
    "import findspark\n",
    "findspark.init()\n",
    "# Create entry points to spark\n",
    "try:\n",
    "    sc.stop()\n",
    "except:\n",
    "    pass\n",
    "from pyspark import SparkContext, SparkConf\n",
    "from pyspark.sql import SparkSession\n",
    "sc = SparkContext()\n",
    "spark = SparkSession(sparkContext=sc)"
   ]
  },
  {
   "cell_type": "markdown",
   "id": "3304c19e-952e-44d4-ac3b-d4ee6319c9b8",
   "metadata": {},
   "source": [
    "## Column expression\n",
    "A Spark column instance is **NOT a column of values from the **DataFrame**: when you crate a column instance, it does not give you the actual values of that column in the DataFrame. I found it makes more sense to me if I consider a **column instance as a column of expressions**. These expressions are evaluated by other methods (e.g., the **select()**, **groupby()**, and **orderby()** from **pyspark.sql.DataFrame**)"
   ]
  },
  {
   "cell_type": "markdown",
   "id": "62124158-5523-49af-a74c-b8c4cca784e0",
   "metadata": {},
   "source": [
    "## Example data"
   ]
  },
  {
   "cell_type": "code",
   "execution_count": 6,
   "id": "c7f4e685-82b7-420e-bb25-19ed4dc8c510",
   "metadata": {},
   "outputs": [
    {
     "name": "stderr",
     "output_type": "stream",
     "text": [
      "                                                                                \r"
     ]
    },
    {
     "name": "stdout",
     "output_type": "stream",
     "text": [
      "+-----------------+----+---+-----+---+----+-----+-----+---+---+----+----+\n",
      "|            model| mpg|cyl| disp| hp|drat|   wt| qsec| vs| am|gear|carb|\n",
      "+-----------------+----+---+-----+---+----+-----+-----+---+---+----+----+\n",
      "|        Mazda RX4|21.0|  6|160.0|110| 3.9| 2.62|16.46|  0|  1|   4|   4|\n",
      "|    Mazda RX4 Wag|21.0|  6|160.0|110| 3.9|2.875|17.02|  0|  1|   4|   4|\n",
      "|       Datsun 710|22.8|  4|108.0| 93|3.85| 2.32|18.61|  1|  1|   4|   1|\n",
      "|   Hornet 4 Drive|21.4|  6|258.0|110|3.08|3.215|19.44|  1|  0|   3|   1|\n",
      "|Hornet Sportabout|18.7|  8|360.0|175|3.15| 3.44|17.02|  0|  0|   3|   2|\n",
      "+-----------------+----+---+-----+---+----+-----+-----+---+---+----+----+\n",
      "only showing top 5 rows\n",
      "\n"
     ]
    }
   ],
   "source": [
    "mtcars = spark.read.csv('data/SparkData/mtcars.csv', inferSchema=True, header=True)\n",
    "mtcars = mtcars.withColumnRenamed('_c0', 'model')\n",
    "mtcars.show(5)"
   ]
  },
  {
   "cell_type": "markdown",
   "id": "6d0dee5a-fe9e-4bed-abf9-67fd4d990ebb",
   "metadata": {},
   "source": [
    "## Use dot(.) to select column from DataFrame"
   ]
  },
  {
   "cell_type": "code",
   "execution_count": 7,
   "id": "261eb05c-3eff-4cbb-8dcf-e4545d7a7241",
   "metadata": {},
   "outputs": [
    {
     "data": {
      "text/plain": [
       "Column<'mpg'>"
      ]
     },
     "execution_count": 7,
     "metadata": {},
     "output_type": "execute_result"
    }
   ],
   "source": [
    "# select column mpg\n",
    "mpg_col = mtcars.mpg\n",
    "mpg_col"
   ]
  },
  {
   "cell_type": "markdown",
   "id": "8e365b18-3959-4af8-8f91-db764bbfd950",
   "metadata": {},
   "source": [
    "## Modify a column to generate a new column"
   ]
  },
  {
   "cell_type": "code",
   "execution_count": 8,
   "id": "48d385f1-4acd-4087-a09a-ae8877e71286",
   "metadata": {},
   "outputs": [
    {
     "data": {
      "text/plain": [
       "Column<'(mpg + 1)'>"
      ]
     },
     "execution_count": 8,
     "metadata": {},
     "output_type": "execute_result"
    }
   ],
   "source": [
    "# increase mpg_col by 1\n",
    "mpg_col + 1"
   ]
  },
  {
   "cell_type": "code",
   "execution_count": 9,
   "id": "9d669401-04a8-4ae1-8a20-55deffa5c599",
   "metadata": {},
   "outputs": [
    {
     "name": "stdout",
     "output_type": "stream",
     "text": [
      "+-----------+\n",
      "|(mpg * 100)|\n",
      "+-----------+\n",
      "|     2100.0|\n",
      "|     2100.0|\n",
      "|     2280.0|\n",
      "|     2140.0|\n",
      "|     1870.0|\n",
      "+-----------+\n",
      "only showing top 5 rows\n",
      "\n"
     ]
    }
   ],
   "source": [
    "# multiply mpg_col by 100 and show 5 rows\n",
    "mtcars.select(mpg_col * 100).show(5)"
   ]
  },
  {
   "cell_type": "markdown",
   "id": "e28211d8-7e48-4cb2-90b7-08ec3983e872",
   "metadata": {},
   "source": [
    "The pyspark.sql.Column has many methods that acts on a column and returns a column instance"
   ]
  },
  {
   "cell_type": "code",
   "execution_count": 10,
   "id": "290052d9-9b98-44d5-b129-636d08cc8b43",
   "metadata": {},
   "outputs": [
    {
     "name": "stdout",
     "output_type": "stream",
     "text": [
      "+----------------+\n",
      "|(gear IN (2, 3))|\n",
      "+----------------+\n",
      "|           false|\n",
      "|           false|\n",
      "|           false|\n",
      "|            true|\n",
      "|            true|\n",
      "+----------------+\n",
      "only showing top 5 rows\n",
      "\n"
     ]
    }
   ],
   "source": [
    "# filter rows where the gear column is 2 or 3 and show 5 rows\n",
    "mtcars.select(mtcars.gear.isin([2,3])).show(5)"
   ]
  },
  {
   "cell_type": "code",
   "execution_count": 11,
   "id": "af99d46f-561d-4078-9b2c-cc25a72cd3dc",
   "metadata": {},
   "outputs": [
    {
     "data": {
      "text/plain": [
       "Column<'mpg ASC NULLS FIRST'>"
      ]
     },
     "execution_count": 11,
     "metadata": {},
     "output_type": "execute_result"
    }
   ],
   "source": [
    "# sort mpg column in ascending order and show 5 rows\n",
    "mtcars.mpg.asc()"
   ]
  },
  {
   "cell_type": "code",
   "execution_count": null,
   "id": "916a7ee4-a1a4-4037-bd3a-362f77c1fe83",
   "metadata": {},
   "outputs": [],
   "source": []
  },
  {
   "cell_type": "code",
   "execution_count": null,
   "id": "001dcac2-5974-45d1-ac76-0c4406ae73e0",
   "metadata": {},
   "outputs": [],
   "source": []
  },
  {
   "cell_type": "code",
   "execution_count": null,
   "id": "4470b366-268d-4528-9e21-88d667d57276",
   "metadata": {},
   "outputs": [],
   "source": []
  }
 ],
 "metadata": {
  "kernelspec": {
   "display_name": "Python 3 (ipykernel)",
   "language": "python",
   "name": "python3"
  },
  "language_info": {
   "codemirror_mode": {
    "name": "ipython",
    "version": 3
   },
   "file_extension": ".py",
   "mimetype": "text/x-python",
   "name": "python",
   "nbconvert_exporter": "python",
   "pygments_lexer": "ipython3",
   "version": "3.9.18"
  }
 },
 "nbformat": 4,
 "nbformat_minor": 5
}
