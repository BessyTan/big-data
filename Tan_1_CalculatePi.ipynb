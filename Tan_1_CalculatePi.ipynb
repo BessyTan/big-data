{
 "cells": [
  {
   "cell_type": "markdown",
   "id": "f1876f16-de63-4dbf-b0d3-c61916108c1c",
   "metadata": {},
   "source": [
    "# Big data, Homework 1, Calculate Pi"
   ]
  },
  {
   "cell_type": "code",
   "execution_count": 4,
   "id": "5b142913-5e7d-4166-937a-c10441dc33e8",
   "metadata": {},
   "outputs": [],
   "source": [
    "import sys\n",
    "from random import random\n",
    "from operator import add"
   ]
  },
  {
   "cell_type": "code",
   "execution_count": 6,
   "id": "a08546a7-05cf-443e-83c6-9aae3b4e41e5",
   "metadata": {},
   "outputs": [
    {
     "name": "stdout",
     "output_type": "stream",
     "text": [
      "Pi is roughly 3.141296\n"
     ]
    }
   ],
   "source": [
    "if __name__==\"__main__\":\n",
    "    n = 1000000\n",
    "    count = 0\n",
    "    for i in range(n):\n",
    "        x = random()\n",
    "        y = random()\n",
    "        if x**2 + y**2 <= 1:                      # if within Circle, add the count\n",
    "            count += 1\n",
    "    print(\"Pi is roughly %f\" % (4.0 * count/n))    # Pi = 4 * nCircle / nTotal   "
   ]
  },
  {
   "cell_type": "markdown",
   "id": "72731a9d-02ad-46af-8ef3-4524719affca",
   "metadata": {},
   "source": [
    "# Using spark to calculate Pi"
   ]
  },
  {
   "cell_type": "code",
   "execution_count": 7,
   "id": "a7c0b7ba-d7a1-4b4e-99b3-17fe74b2f7dd",
   "metadata": {},
   "outputs": [],
   "source": [
    "import findspark\n",
    "findspark.init()"
   ]
  },
  {
   "cell_type": "code",
   "execution_count": 8,
   "id": "c5447fc1-68bf-4d52-93da-9e10ee9fd2fb",
   "metadata": {},
   "outputs": [],
   "source": [
    "import sys\n",
    "from random import random\n",
    "from operator import add"
   ]
  },
  {
   "cell_type": "code",
   "execution_count": 9,
   "id": "2e381875-b9d8-4a0b-8cee-53ec69688c9e",
   "metadata": {},
   "outputs": [],
   "source": [
    "# create entry points to spark\n",
    "try:\n",
    "    sc.stop()\n",
    "except:\n",
    "    pass\n",
    "from pyspark import SparkContext, SparkConf\n",
    "from pyspark.sql import SparkSession"
   ]
  },
  {
   "cell_type": "code",
   "execution_count": 10,
   "id": "0c8b63f5-a43e-4eec-ab19-03cdaa4d4f16",
   "metadata": {},
   "outputs": [
    {
     "name": "stderr",
     "output_type": "stream",
     "text": [
      "Setting default log level to \"WARN\".\n",
      "To adjust logging level use sc.setLogLevel(newLevel). For SparkR, use setLogLevel(newLevel).\n",
      "25/01/13 18:10:36 WARN NativeCodeLoader: Unable to load native-hadoop library for your platform... using builtin-java classes where applicable\n"
     ]
    }
   ],
   "source": [
    "sc = SparkContext()\n",
    "spark = SparkSession(sparkContext = sc)"
   ]
  },
  {
   "cell_type": "code",
   "execution_count": 11,
   "id": "c74af0f5-d273-4bbb-b778-fffd909f0a7e",
   "metadata": {},
   "outputs": [
    {
     "name": "stderr",
     "output_type": "stream",
     "text": [
      "                                                                                \r"
     ]
    },
    {
     "name": "stdout",
     "output_type": "stream",
     "text": [
      "Pi is roughly 3.141416\n"
     ]
    }
   ],
   "source": [
    "if __name__==\"__main__\":\n",
    "    \"\"\"\n",
    "       Usage: pi [partitions]\n",
    "    \"\"\"\n",
    "    partitions = 1\n",
    "    n = 1000000 * partitions\n",
    "\n",
    "    def f(_: int) -> float:\n",
    "        x = random() * 2 - 1\n",
    "        y = random() * 2 - 1\n",
    "        return 1 if x**2 + y**2 <= 1 else 0\n",
    "\n",
    "    count = sc.parallelize(range(1, n+1), partitions).map(f).reduce(add)\n",
    "    print(\"Pi is roughly %f\" % (4.0 * count/n))    # Pi = 4 * nCircle / nTotal  \n",
    "    spark.stop()"
   ]
  },
  {
   "cell_type": "code",
   "execution_count": null,
   "id": "07c4cbca-d9fa-45b8-ad69-540406e84be7",
   "metadata": {},
   "outputs": [],
   "source": []
  }
 ],
 "metadata": {
  "kernelspec": {
   "display_name": "Python 3 (ipykernel)",
   "language": "python",
   "name": "python3"
  },
  "language_info": {
   "codemirror_mode": {
    "name": "ipython",
    "version": 3
   },
   "file_extension": ".py",
   "mimetype": "text/x-python",
   "name": "python",
   "nbconvert_exporter": "python",
   "pygments_lexer": "ipython3",
   "version": "3.9.18"
  }
 },
 "nbformat": 4,
 "nbformat_minor": 5
}
