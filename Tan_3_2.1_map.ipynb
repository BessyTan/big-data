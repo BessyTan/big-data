{
 "cells": [
  {
   "cell_type": "markdown",
   "id": "ba72cd70-e83e-43ab-81b8-0ea6b72ef77b",
   "metadata": {},
   "source": [
    "## BigData_Homework3_RDD_2.1_map\n",
    "name: Xun TAN\n",
    "\n",
    "Run each cell in the HTML format of a jupyter notebook\n",
    "Comment each cell to state the purpose of that cell\n",
    "Submit the commented notebook as proof of completion."
   ]
  },
  {
   "cell_type": "code",
   "execution_count": 1,
   "id": "cc656e3a-1fe7-4bf0-8658-aa2a0a2dcca0",
   "metadata": {},
   "outputs": [
    {
     "name": "stderr",
     "output_type": "stream",
     "text": [
      "Setting default log level to \"WARN\".\n",
      "To adjust logging level use sc.setLogLevel(newLevel). For SparkR, use setLogLevel(newLevel).\n",
      "25/02/05 17:35:31 WARN NativeCodeLoader: Unable to load native-hadoop library for your platform... using builtin-java classes where applicable\n"
     ]
    }
   ],
   "source": [
    "# setting up Spark\n",
    "# Try to stop any existing SparkContext\n",
    "# import SparkContext to interface with Spark clusters, SparkConf to configure Spark\n",
    "# import SparkSession as the entry point for DateFrame and SQL operations in Spark\n",
    "# Create a new SparkContext\n",
    "# Create a SparkSession as the entry point for DateFrame and SQL operations in Spark\n",
    "\n",
    "import findspark  \n",
    "findspark.init()  \n",
    "# create entry points to spark\n",
    "try:\n",
    "    sc.stop()\n",
    "except:\n",
    "    pass\n",
    "from pyspark import SparkContext, SparkConf\n",
    "from pyspark.sql import SparkSession\n",
    "sc = SparkContext()\n",
    "spark = SparkSession(sparkContext=sc)\n"
   ]
  },
  {
   "cell_type": "markdown",
   "id": "54d4d1aa-9ea7-4b2b-b658-92ccfe00abf9",
   "metadata": {},
   "source": [
    "## Map functions\n",
    "These functions are probably the most commonly used functions when dealing with an RDD object.\n",
    "map()\n",
    "mapValues()\n",
    "flatMap()\n",
    "flatMapValues()\n",
    "### map\n",
    "The map() method applies a function to each elements of the RDD. Each element has to be a valid input to the function. The returned RDD has the function outputs as its new elements.\n",
    "Elements in the RDD object map_exp_rdd below are rows of the mtcars in string format. We are going to apply the map() function multiple times to convert each string elements as a list elements. Each list element has two values: the first value will be the auto model in string format; the second value will be a list of numeric values."
   ]
  },
  {
   "cell_type": "code",
   "execution_count": 2,
   "id": "7cbd5afa-9c02-4657-b8c3-e2bdb5f4b7f5",
   "metadata": {},
   "outputs": [
    {
     "name": "stderr",
     "output_type": "stream",
     "text": [
      "                                                                                \r"
     ]
    },
    {
     "data": {
      "text/plain": [
       "[',mpg,cyl,disp,hp,drat,wt,qsec,vs,am,gear,carb',\n",
       " 'Mazda RX4,21,6,160,110,3.9,2.62,16.46,0,1,4,4',\n",
       " 'Mazda RX4 Wag,21,6,160,110,3.9,2.875,17.02,0,1,4,4',\n",
       " 'Datsun 710,22.8,4,108,93,3.85,2.32,18.61,1,1,4,1']"
      ]
     },
     "execution_count": 2,
     "metadata": {},
     "output_type": "execute_result"
    }
   ],
   "source": [
    "# create an example RDD(Resilient Distributed Dataset)\n",
    "# reads the 'mtcar.csv' into a RDD, each line as an element\n",
    "# show the first 4 elements of the rdd as a list\n",
    "map_exp_rdd = sc.textFile('data/SparkData/mtcars.csv')\n",
    "map_exp_rdd.take(4)"
   ]
  },
  {
   "cell_type": "code",
   "execution_count": 4,
   "id": "3ac577d1-0e81-4c45-9ee5-71b273fa0ab2",
   "metadata": {},
   "outputs": [
    {
     "data": {
      "text/plain": [
       "[('',\n",
       "  ['mpg',\n",
       "   'cyl',\n",
       "   'disp',\n",
       "   'hp',\n",
       "   'drat',\n",
       "   'wt',\n",
       "   'qsec',\n",
       "   'vs',\n",
       "   'am',\n",
       "   'gear',\n",
       "   'carb']),\n",
       " ('Mazda RX4',\n",
       "  ['21', '6', '160', '110', '3.9', '2.62', '16.46', '0', '1', '4', '4']),\n",
       " ('Mazda RX4 Wag',\n",
       "  ['21', '6', '160', '110', '3.9', '2.875', '17.02', '0', '1', '4', '4']),\n",
       " ('Datsun 710',\n",
       "  ['22.8', '4', '108', '93', '3.85', '2.32', '18.61', '1', '1', '4', '1'])]"
      ]
     },
     "execution_count": 4,
     "metadata": {},
     "output_type": "execute_result"
    }
   ],
   "source": [
    "# split each string by ','\n",
    "# create an RDD of tuples using first item as the key and the rest as value\n",
    "# show the first 4 elements in the RDD\n",
    "# split auto model from other feature values\n",
    "map_exp_rdd_1 = map_exp_rdd.map(lambda x : x.split(',')).map(lambda x : (x[0], x[1:]))\n",
    "map_exp_rdd_1.take(4)"
   ]
  },
  {
   "cell_type": "code",
   "execution_count": 8,
   "id": "01c48d3c-ce8a-4806-b5ff-71cc2fc8e3c3",
   "metadata": {},
   "outputs": [
    {
     "data": {
      "text/plain": [
       "[('Mazda RX4',\n",
       "  ['21', '6', '160', '110', '3.9', '2.62', '16.46', '0', '1', '4', '4']),\n",
       " ('Mazda RX4 Wag',\n",
       "  ['21', '6', '160', '110', '3.9', '2.875', '17.02', '0', '1', '4', '4']),\n",
       " ('Datsun 710',\n",
       "  ['22.8', '4', '108', '93', '3.85', '2.32', '18.61', '1', '1', '4', '1']),\n",
       " ('Hornet 4 Drive',\n",
       "  ['21.4', '6', '258', '110', '3.08', '3.215', '19.44', '1', '0', '3', '1'])]"
      ]
     },
     "execution_count": 8,
     "metadata": {},
     "output_type": "execute_result"
    }
   ],
   "source": [
    "# Create an new filtered RDD with no element like the previous first row (header) \n",
    "# and show the first 4 elements of the new RDD\n",
    "# remove the header row\n",
    "header = map_exp_rdd_1.first()\n",
    "# the filter method apply a function to each elements. The functon output is a boolean value\n",
    "# elements that have output TRUE will be kept.\n",
    "max_exp_rdd_2 = map_exp_rdd_1.filter(lambda x : x!=header)\n",
    "max_exp_rdd_2.take(4)"
   ]
  },
  {
   "cell_type": "code",
   "execution_count": 10,
   "id": "047803a5-2dcd-4ab3-999c-6e87c8ee234f",
   "metadata": {},
   "outputs": [
    {
     "data": {
      "text/plain": [
       "[('Mazda RX4',\n",
       "  [21.0, 6.0, 160.0, 110.0, 3.9, 2.62, 16.46, 0.0, 1.0, 4.0, 4.0]),\n",
       " ('Mazda RX4 Wag',\n",
       "  [21.0, 6.0, 160.0, 110.0, 3.9, 2.875, 17.02, 0.0, 1.0, 4.0, 4.0]),\n",
       " ('Datsun 710',\n",
       "  [22.8, 4.0, 108.0, 93.0, 3.85, 2.32, 18.61, 1.0, 1.0, 4.0, 1.0]),\n",
       " ('Hornet 4 Drive',\n",
       "  [21.4, 6.0, 258.0, 110.0, 3.08, 3.215, 19.44, 1.0, 0.0, 3.0, 1.0])]"
      ]
     },
     "execution_count": 10,
     "metadata": {},
     "output_type": "execute_result"
    }
   ],
   "source": [
    "# Each element in the RDD is a tuple where the first element is (x[0])  \n",
    "# and the second element is a list of floats\n",
    "# convert string values to numeric values\n",
    "map_exp_rdd_3 = max_exp_rdd_2.map(lambda x : (x[0], list(map(float, x[1]))))\n",
    "map_exp_rdd_3.take(4)"
   ]
  },
  {
   "cell_type": "markdown",
   "id": "36d3eb30-337c-487e-a664-b0af4fe5eb39",
   "metadata": {},
   "source": [
    "## mapValues\n",
    "The mapValues function requires that each element in the RDD has a key/value pair structure, for example, a tuple of 2 items, or a list of 2 items. The mapValues function applies a function to each of the element values. The element key will remain unchanged.\n",
    "\n",
    "We can apply the mapValues function to the RDD object mapValues_exp_rdd below."
   ]
  },
  {
   "cell_type": "code",
   "execution_count": 11,
   "id": "135df4a2-34dd-448d-a6fe-ad25113363cd",
   "metadata": {},
   "outputs": [
    {
     "data": {
      "text/plain": [
       "[('Mazda RX4',\n",
       "  [21.0, 6.0, 160.0, 110.0, 3.9, 2.62, 16.46, 0.0, 1.0, 4.0, 4.0]),\n",
       " ('Mazda RX4 Wag',\n",
       "  [21.0, 6.0, 160.0, 110.0, 3.9, 2.875, 17.02, 0.0, 1.0, 4.0, 4.0]),\n",
       " ('Datsun 710',\n",
       "  [22.8, 4.0, 108.0, 93.0, 3.85, 2.32, 18.61, 1.0, 1.0, 4.0, 1.0]),\n",
       " ('Hornet 4 Drive',\n",
       "  [21.4, 6.0, 258.0, 110.0, 3.08, 3.215, 19.44, 1.0, 0.0, 3.0, 1.0])]"
      ]
     },
     "execution_count": 11,
     "metadata": {},
     "output_type": "execute_result"
    }
   ],
   "source": [
    "# Assign a new RDD and show the first 4 elements\n",
    "mapValues_exp_rdd = map_exp_rdd_3\n",
    "mapValues_exp_rdd.take(4)"
   ]
  },
  {
   "cell_type": "code",
   "execution_count": 12,
   "id": "035f37ac-3643-4714-8f24-9ca53c38b1aa",
   "metadata": {},
   "outputs": [
    {
     "data": {
      "text/plain": [
       "[('Mazda RX4', 29.90727272727273),\n",
       " ('Mazda RX4 Wag', 29.98136363636364),\n",
       " ('Datsun 710', 23.59818181818182),\n",
       " ('Hornet 4 Drive', 38.73954545454546)]"
      ]
     },
     "execution_count": 12,
     "metadata": {},
     "output_type": "execute_result"
    }
   ],
   "source": [
    "# Use mapValues() for (key, [values])to replace the [values] by its mean\n",
    "import numpy as np\n",
    "mapValues_exp_rdd_1 = mapValues_exp_rdd.mapValues(lambda x : np.mean(x))\n",
    "mapValues_exp_rdd_1.take(4)"
   ]
  },
  {
   "cell_type": "markdown",
   "id": "d07e9393-7b4d-4aae-bae3-8103ba031b35",
   "metadata": {},
   "source": [
    "When using mapValues(), the x in the above lambda function refers to the element value, not including the element key."
   ]
  },
  {
   "cell_type": "markdown",
   "id": "fdbd87b5-70be-4908-95a2-8fb43539cdb0",
   "metadata": {},
   "source": [
    "## flatMap\n",
    "This function first applies a function to each elements of an RDD and then flatten the results. We can simply use this function to flatten elements of an RDD without extra operation on each elements."
   ]
  },
  {
   "cell_type": "code",
   "execution_count": 13,
   "id": "ee4b7f7c-e9b7-4cf9-be6a-6b563837b2e8",
   "metadata": {},
   "outputs": [
    {
     "data": {
      "text/plain": [
       "[('a', 'b', 'c'), ('a', 'a'), ('c', 'c', 'c', 'd')]"
      ]
     },
     "execution_count": 13,
     "metadata": {},
     "output_type": "execute_result"
    }
   ],
   "source": [
    "# Use sc.parallelize(x) to create a RDD from the list of tuples\n",
    "x = [('a', 'b', 'c'), ('a', 'a'), ('c', 'c', 'c', 'd')]\n",
    "flatMap_exp_rdd = sc.parallelize(x)\n",
    "flatMap_exp_rdd.collect()"
   ]
  },
  {
   "cell_type": "code",
   "execution_count": 14,
   "id": "399ebc59-5451-4611-a7aa-66df7fc5221f",
   "metadata": {},
   "outputs": [
    {
     "data": {
      "text/plain": [
       "['a', 'b', 'c', 'a', 'a', 'c', 'c', 'c', 'd']"
      ]
     },
     "execution_count": 14,
     "metadata": {},
     "output_type": "execute_result"
    }
   ],
   "source": [
    "# Use flatMap to break down tuples into individual elements and turn into a list\n",
    "flatMap_exp_rdd_1 = flatMap_exp_rdd.flatMap(lambda x : x)\n",
    "flatMap_exp_rdd_1.collect()"
   ]
  },
  {
   "cell_type": "markdown",
   "id": "2ec91ec3-ceef-4a89-90a3-94f0fc72e680",
   "metadata": {},
   "source": [
    "## `flatMapValues`\n",
    "\n",
    "The `flatMapValues` function requires that each element in the RDD has a **key/value** pair structure. It applies a function to each **element value** of the RDD object and then flatten the results.\n",
    "\n",
    "For example, my raw data looks like below. But I would like to transform the data so that it has three columns: the first column is the **sample id**; the second the column is the three **types (A,B or C)**; the third column is the **values**.\n",
    "\n",
    "| sample id |  A |  B |  C |\n",
    "|:---------:|:--:|:--:|:--:|\n",
    "|     1     | 23 | 18 | 32 |\n",
    "|     2     | 18 | 29 | 31 |\n",
    "|     3     | 34 | 21 | 18 |\n"
   ]
  },
  {
   "cell_type": "code",
   "execution_count": 15,
   "id": "ed6f5b28-b5dd-4aa9-9e5f-b386228e4231",
   "metadata": {},
   "outputs": [
    {
     "data": {
      "text/plain": [
       "[[1, (23, 28, 32)], [2, (18, 29, 31)], [3, (34, 21, 18)]]"
      ]
     },
     "execution_count": 15,
     "metadata": {},
     "output_type": "execute_result"
    }
   ],
   "source": [
    "# # Use sc.parallelize(x) to create a RDD, each element is [key, values] and 'values' is a tuple \n",
    "# example data\n",
    "my_data = [\n",
    "    [1, (23, 28, 32)],\n",
    "    [2, (18, 29, 31)],\n",
    "    [3, (34, 21, 18)]\n",
    "]\n",
    "flatMapValues_exp_rdd = sc.parallelize(my_data)\n",
    "flatMapValues_exp_rdd.collect()"
   ]
  },
  {
   "cell_type": "code",
   "execution_count": 18,
   "id": "fd14cbb2-de08-41b6-a730-8d6b910f6c7a",
   "metadata": {},
   "outputs": [
    {
     "data": {
      "text/plain": [
       "[(1, ('A', 23)),\n",
       " (1, ('B', 28)),\n",
       " (1, ('C', 32)),\n",
       " (2, ('A', 18)),\n",
       " (2, ('B', 29)),\n",
       " (2, ('C', 31)),\n",
       " (3, ('A', 34)),\n",
       " (3, ('B', 21)),\n",
       " (3, ('C', 18))]"
      ]
     },
     "execution_count": 18,
     "metadata": {},
     "output_type": "execute_result"
    }
   ],
   "source": [
    "# list('ABC') convert into ['A', 'B', 'C']\n",
    "# zip(list('ABC'), x) convert into [('A',  x1), ('B',  x2), ('c', x3)]\n",
    "# flatMapValues() produce a list of tuples with key-value pairs\n",
    "flatMapValues_exp_rdd_1 = flatMapValues_exp_rdd.flatMapValues(lambda x : list(zip(list('ABC'), x)))\n",
    "flatMapValues_exp_rdd_1.collect()"
   ]
  },
  {
   "cell_type": "code",
   "execution_count": 19,
   "id": "ed352fb6-6e98-42f2-918a-4699b1a22ab4",
   "metadata": {},
   "outputs": [
    {
     "data": {
      "text/plain": [
       "[[1, 'A', 23],\n",
       " [1, 'B', 28],\n",
       " [1, 'C', 32],\n",
       " [2, 'A', 18],\n",
       " [2, 'B', 29],\n",
       " [2, 'C', 31],\n",
       " [3, 'A', 34],\n",
       " [3, 'B', 21],\n",
       " [3, 'C', 18]]"
      ]
     },
     "execution_count": 19,
     "metadata": {},
     "output_type": "execute_result"
    }
   ],
   "source": [
    "# map(lambda x : [x[0]] + list(x[1])) convert each element into a list \n",
    "# with key as 1st item and values as the following items\n",
    "flatMapValues_exp_rdd_2 = flatMapValues_exp_rdd_1.map(lambda x : [x[0]] + list(x[1]))\n",
    "flatMapValues_exp_rdd_2.collect()"
   ]
  },
  {
   "cell_type": "code",
   "execution_count": null,
   "id": "bf821cbd-c795-4918-b1e1-064de9797372",
   "metadata": {},
   "outputs": [],
   "source": []
  }
 ],
 "metadata": {
  "kernelspec": {
   "display_name": "Python 3 (ipykernel)",
   "language": "python",
   "name": "python3"
  },
  "language_info": {
   "codemirror_mode": {
    "name": "ipython",
    "version": 3
   },
   "file_extension": ".py",
   "mimetype": "text/x-python",
   "name": "python",
   "nbconvert_exporter": "python",
   "pygments_lexer": "ipython3",
   "version": "3.9.18"
  }
 },
 "nbformat": 4,
 "nbformat_minor": 5
}
