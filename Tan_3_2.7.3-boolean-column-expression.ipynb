{
 "cells": [
  {
   "cell_type": "code",
   "execution_count": 2,
   "id": "3f363078-bd15-4c58-8a63-49b6d6ffc802",
   "metadata": {},
   "outputs": [
    {
     "name": "stderr",
     "output_type": "stream",
     "text": [
      "Setting default log level to \"WARN\".\n",
      "To adjust logging level use sc.setLogLevel(newLevel). For SparkR, use setLogLevel(newLevel).\n",
      "25/02/07 20:50:34 WARN NativeCodeLoader: Unable to load native-hadoop library for your platform... using builtin-java classes where applicable\n",
      "25/02/07 20:50:35 WARN Utils: Service 'SparkUI' could not bind on port 4040. Attempting port 4041.\n",
      "25/02/07 20:50:35 WARN Utils: Service 'SparkUI' could not bind on port 4041. Attempting port 4042.\n"
     ]
    }
   ],
   "source": [
    "import findspark\n",
    "findspark.init()\n",
    "# create entry points to spark\n",
    "try:\n",
    "    sc.stop()\n",
    "except:\n",
    "    pass\n",
    "from pyspark import SparkContext, SparkConf\n",
    "from pyspark.sql import SparkSession\n",
    "sc=SparkContext()\n",
    "spark = SparkSession(sparkContext=sc)"
   ]
  },
  {
   "cell_type": "markdown",
   "id": "9098b703-1d18-44de-9c42-3ac81966aad5",
   "metadata": {},
   "source": [
    "## Boolean column expression\n",
    "Create a column expressin that will return boolean values"
   ]
  },
  {
   "cell_type": "markdown",
   "id": "625783e9-12c7-408e-bc1f-0334b0fa6f0e",
   "metadata": {},
   "source": [
    "## Example data"
   ]
  },
  {
   "cell_type": "code",
   "execution_count": 5,
   "id": "6ef1f977-4b2c-4ec4-899d-adcd3f346454",
   "metadata": {},
   "outputs": [
    {
     "name": "stderr",
     "output_type": "stream",
     "text": [
      "                                                                                \r"
     ]
    },
    {
     "name": "stdout",
     "output_type": "stream",
     "text": [
      "+-------------------+----+---+-----+---+----+-----+-----+---+---+----+----+\n",
      "|              model| mpg|cyl| disp| hp|drat|   wt| qsec| vs| am|gear|carb|\n",
      "+-------------------+----+---+-----+---+----+-----+-----+---+---+----+----+\n",
      "|          Mazda RX4|21.0|  6|160.0|110| 3.9| 2.62|16.46|  0|  1|   4|   4|\n",
      "|      Mazda RX4 Wag|21.0|  6|160.0|110| 3.9|2.875|17.02|  0|  1|   4|   4|\n",
      "|         Datsun 710|22.8|  4|108.0| 93|3.85| 2.32|18.61|  1|  1|   4|   1|\n",
      "|     Hornet 4 Drive|21.4|  6|258.0|110|3.08|3.215|19.44|  1|  0|   3|   1|\n",
      "|  Hornet Sportabout|18.7|  8|360.0|175|3.15| 3.44|17.02|  0|  0|   3|   2|\n",
      "|            Valiant|18.1|  6|225.0|105|2.76| 3.46|20.22|  1|  0|   3|   1|\n",
      "|         Duster 360|14.3|  8|360.0|245|3.21| 3.57|15.84|  0|  0|   3|   4|\n",
      "|          Merc 240D|24.4|  4|146.7| 62|3.69| 3.19| 20.0|  1|  0|   4|   2|\n",
      "|           Merc 230|22.8|  4|140.8| 95|3.92| 3.15| 22.9|  1|  0|   4|   2|\n",
      "|           Merc 280|19.2|  6|167.6|123|3.92| 3.44| 18.3|  1|  0|   4|   4|\n",
      "|          Merc 280C|17.8|  6|167.6|123|3.92| 3.44| 18.9|  1|  0|   4|   4|\n",
      "|         Merc 450SE|16.4|  8|275.8|180|3.07| 4.07| 17.4|  0|  0|   3|   3|\n",
      "|         Merc 450SL|17.3|  8|275.8|180|3.07| 3.73| 17.6|  0|  0|   3|   3|\n",
      "|        Merc 450SLC|15.2|  8|275.8|180|3.07| 3.78| 18.0|  0|  0|   3|   3|\n",
      "| Cadillac Fleetwood|10.4|  8|472.0|205|2.93| 5.25|17.98|  0|  0|   3|   4|\n",
      "|Lincoln Continental|10.4|  8|460.0|215| 3.0|5.424|17.82|  0|  0|   3|   4|\n",
      "|  Chrysler Imperial|14.7|  8|440.0|230|3.23|5.345|17.42|  0|  0|   3|   4|\n",
      "|           Fiat 128|32.4|  4| 78.7| 66|4.08|  2.2|19.47|  1|  1|   4|   1|\n",
      "|        Honda Civic|30.4|  4| 75.7| 52|4.93|1.615|18.52|  1|  1|   4|   2|\n",
      "|     Toyota Corolla|33.9|  4| 71.1| 65|4.22|1.835| 19.9|  1|  1|   4|   1|\n",
      "+-------------------+----+---+-----+---+----+-----+-----+---+---+----+----+\n",
      "only showing top 20 rows\n",
      "\n"
     ]
    }
   ],
   "source": [
    "mtcars = spark.read.csv('data/SparkData/mtcars.csv', inferSchema=True, header=True)\n",
    "mtcars = mtcars.withColumnRenamed('_c0', 'model')\n",
    "mtcars.show()"
   ]
  },
  {
   "cell_type": "markdown",
   "id": "efc64fa1-e8d1-4f58-8acc-f4f89e165e71",
   "metadata": {},
   "source": [
    "## between() : true/false if the column value is between a given range"
   ]
  },
  {
   "cell_type": "code",
   "execution_count": 9,
   "id": "8c718553-5e02-4b2d-887b-4e15df71db2e",
   "metadata": {},
   "outputs": [
    {
     "data": {
      "text/plain": [
       "Column<'((cyl >= 4) AND (cyl <= 6))'>"
      ]
     },
     "execution_count": 9,
     "metadata": {},
     "output_type": "execute_result"
    }
   ],
   "source": [
    "# use mpg_between expression to select cyl column values between 4 and 6\n",
    "mpg_between = mtcars.cyl.between(4,6)\n",
    "mpg_between"
   ]
  },
  {
   "cell_type": "code",
   "execution_count": 10,
   "id": "e26f3575-abea-4629-a2c8-2bc35a47b47e",
   "metadata": {},
   "outputs": [
    {
     "name": "stdout",
     "output_type": "stream",
     "text": [
      "+---+---------------------------+\n",
      "|cyl|((cyl >= 4) AND (cyl <= 6))|\n",
      "+---+---------------------------+\n",
      "|  6|                       true|\n",
      "|  6|                       true|\n",
      "|  4|                       true|\n",
      "|  6|                       true|\n",
      "|  8|                      false|\n",
      "+---+---------------------------+\n",
      "only showing top 5 rows\n",
      "\n"
     ]
    }
   ],
   "source": [
    "# show cyl column of the first 5 rows with the boolean value of whether the value is in mpg_between expression\n",
    "mtcars.select(mtcars.cyl, mpg_between).show(5)"
   ]
  },
  {
   "cell_type": "markdown",
   "id": "0be7824f-2626-46fd-ae95-a27a2f4cbc90",
   "metadata": {},
   "source": [
    "## contains() : true/false if the column value contains a string"
   ]
  },
  {
   "cell_type": "code",
   "execution_count": 11,
   "id": "efdc4b50-3f49-453a-87a2-5868ab137d46",
   "metadata": {},
   "outputs": [
    {
     "data": {
      "text/plain": [
       "Column<'contains(model, Ho)'>"
      ]
     },
     "execution_count": 11,
     "metadata": {},
     "output_type": "execute_result"
    }
   ],
   "source": [
    "# use model_contains expression to select model column value contains 'Ho'\n",
    "model_contains = mtcars.model.contains('Ho')\n",
    "model_contains"
   ]
  },
  {
   "cell_type": "code",
   "execution_count": 12,
   "id": "2666225c-7042-4e07-ab54-02ab8645bf28",
   "metadata": {},
   "outputs": [
    {
     "name": "stdout",
     "output_type": "stream",
     "text": [
      "+-----------------+-------------------+\n",
      "|            model|contains(model, Ho)|\n",
      "+-----------------+-------------------+\n",
      "|        Mazda RX4|              false|\n",
      "|    Mazda RX4 Wag|              false|\n",
      "|       Datsun 710|              false|\n",
      "|   Hornet 4 Drive|               true|\n",
      "|Hornet Sportabout|               true|\n",
      "+-----------------+-------------------+\n",
      "only showing top 5 rows\n",
      "\n"
     ]
    }
   ],
   "source": [
    "# show model column of the first 5 rows with the boolean value of whether the value is in model_contains expression\n",
    "mtcars.select(mtcars.model, model_contains).show(5)"
   ]
  },
  {
   "cell_type": "markdown",
   "id": "59d3c931-fdde-4f4b-b05d-1d34cd696927",
   "metadata": {},
   "source": [
    "## endwith() : true/false if the column value ends with a string"
   ]
  },
  {
   "cell_type": "code",
   "execution_count": 13,
   "id": "4cffdfaf-f3b5-4ce4-bd88-053f7455f4c2",
   "metadata": {},
   "outputs": [
    {
     "data": {
      "text/plain": [
       "Column<'endswith(model, t)'>"
      ]
     },
     "execution_count": 13,
     "metadata": {},
     "output_type": "execute_result"
    }
   ],
   "source": [
    "# use model_endswith expression to select model column value ends with 't'\n",
    "model_endswith = mtcars.model.endswith('t')\n",
    "model_endswith"
   ]
  },
  {
   "cell_type": "code",
   "execution_count": 14,
   "id": "7c2e2c7e-66ac-420d-b186-b6d91a14bf37",
   "metadata": {},
   "outputs": [
    {
     "name": "stdout",
     "output_type": "stream",
     "text": [
      "+-----------------+------------------+\n",
      "|model            |endswith(model, t)|\n",
      "+-----------------+------------------+\n",
      "|Mazda RX4        |false             |\n",
      "|Mazda RX4 Wag    |false             |\n",
      "|Datsun 710       |false             |\n",
      "|Hornet 4 Drive   |false             |\n",
      "|Hornet Sportabout|true              |\n",
      "|Valiant          |true              |\n",
      "+-----------------+------------------+\n",
      "only showing top 6 rows\n",
      "\n"
     ]
    }
   ],
   "source": [
    "# show 6 rows of model column value and the boolean value of whether it matches the model_endswith expression without truncate \n",
    "mtcars.select(mtcars.model, model_endswith).show(6, truncate=False)"
   ]
  },
  {
   "cell_type": "markdown",
   "id": "32b5bc55-d97e-407b-9425-de811de616a3",
   "metadata": {},
   "source": [
    "## isNotNull() : true/false if the column value is not Null"
   ]
  },
  {
   "cell_type": "code",
   "execution_count": 15,
   "id": "c19472b9-e6b3-4c57-9dfe-790c8dbfbc87",
   "metadata": {},
   "outputs": [
    {
     "name": "stderr",
     "output_type": "stream",
     "text": [
      "                                                                                \r"
     ]
    },
    {
     "name": "stdout",
     "output_type": "stream",
     "text": [
      "+-----+------+\n",
      "| name|height|\n",
      "+-----+------+\n",
      "|  Tom|    80|\n",
      "|Alice|  NULL|\n",
      "+-----+------+\n",
      "\n"
     ]
    }
   ],
   "source": [
    "# Create a DataFrame using Row class\n",
    "from pyspark.sql import Row\n",
    "df = spark.createDataFrame([Row(name='Tom', height=80), Row(name='Alice', height=None)])\n",
    "df.show()"
   ]
  },
  {
   "cell_type": "code",
   "execution_count": 16,
   "id": "4fa7b84a-8589-4134-8ab0-971592376f0d",
   "metadata": {},
   "outputs": [
    {
     "data": {
      "text/plain": [
       "Column<'(height IS NOT NULL)'>"
      ]
     },
     "execution_count": 16,
     "metadata": {},
     "output_type": "execute_result"
    }
   ],
   "source": [
    "# create a height_isNotNull condition to check whether the height column is not null\n",
    "height_isNotNull = df.height.isNotNull()\n",
    "height_isNotNull"
   ]
  },
  {
   "cell_type": "code",
   "execution_count": 19,
   "id": "e1df905a-ea55-465d-be7b-52256a8a2d60",
   "metadata": {},
   "outputs": [
    {
     "name": "stdout",
     "output_type": "stream",
     "text": [
      "+------+--------------------+\n",
      "|height|(height IS NOT NULL)|\n",
      "+------+--------------------+\n",
      "|    80|                true|\n",
      "|  NULL|               false|\n",
      "+------+--------------------+\n",
      "\n"
     ]
    }
   ],
   "source": [
    "# show height column and the bollean value of whether it is not Null\n",
    "df.select(df.height, height_isNotNull).show()"
   ]
  },
  {
   "cell_type": "markdown",
   "id": "5d352c65-82b2-4dd0-b000-85ff5bb4ef77",
   "metadata": {},
   "source": [
    "## isNull() : true/false if the column value is Null"
   ]
  },
  {
   "cell_type": "code",
   "execution_count": 20,
   "id": "df8f7db6-c6f7-42b7-a519-894931d0b207",
   "metadata": {},
   "outputs": [
    {
     "data": {
      "text/plain": [
       "Column<'(height IS NULL)'>"
      ]
     },
     "execution_count": 20,
     "metadata": {},
     "output_type": "execute_result"
    }
   ],
   "source": [
    "# create a height_isNull condition to check whether the height column is null\n",
    "height_isNull = df.height.isNull()\n",
    "height_isNull"
   ]
  },
  {
   "cell_type": "code",
   "execution_count": 23,
   "id": "49a74bf0-d90a-44bb-8177-74e35df077c2",
   "metadata": {},
   "outputs": [
    {
     "name": "stdout",
     "output_type": "stream",
     "text": [
      "+------+----------------+\n",
      "|height|(height IS NULL)|\n",
      "+------+----------------+\n",
      "|    80|           false|\n",
      "|  NULL|            true|\n",
      "+------+----------------+\n",
      "\n"
     ]
    }
   ],
   "source": [
    "# show height column and the bollean value of whether it is Null\n",
    "df.select(df.height, height_isNull).show()"
   ]
  },
  {
   "cell_type": "markdown",
   "id": "6e36e14a-5054-484d-8a44-e3843618db74",
   "metadata": {},
   "source": [
    "## isin() : true/false if the column value is contained by the evaluate argument"
   ]
  },
  {
   "cell_type": "code",
   "execution_count": 24,
   "id": "e032d34a-05c9-4a18-a0ea-ca2d0e2be851",
   "metadata": {},
   "outputs": [
    {
     "data": {
      "text/plain": [
       "Column<'(carb IN (2, 3))'>"
      ]
     },
     "execution_count": 24,
     "metadata": {},
     "output_type": "execute_result"
    }
   ],
   "source": [
    "# check if carb values are either 2 or 3\n",
    "carb_isin = mtcars.carb.isin([2, 3])\n",
    "carb_isin "
   ]
  },
  {
   "cell_type": "code",
   "execution_count": 25,
   "id": "26c8087e-d9db-47c0-9038-6eec3f9d1657",
   "metadata": {},
   "outputs": [
    {
     "name": "stdout",
     "output_type": "stream",
     "text": [
      "+----+----------------+\n",
      "|carb|(carb IN (2, 3))|\n",
      "+----+----------------+\n",
      "|   4|           false|\n",
      "|   4|           false|\n",
      "|   1|           false|\n",
      "|   1|           false|\n",
      "|   2|            true|\n",
      "|   1|           false|\n",
      "|   4|           false|\n",
      "|   2|            true|\n",
      "|   2|            true|\n",
      "|   4|           false|\n",
      "+----+----------------+\n",
      "only showing top 10 rows\n",
      "\n"
     ]
    }
   ],
   "source": [
    "# show 10 rows of carb column and the bollean value of whether it is in carb_isin condition\n",
    "mtcars.select(mtcars.carb, carb_isin).show(10)"
   ]
  },
  {
   "cell_type": "markdown",
   "id": "1d7fc0c3-2ef9-495e-82fa-d8bd49131f55",
   "metadata": {},
   "source": [
    "## like() : true/false if the column value matches a pattern based on a SQL LIKE"
   ]
  },
  {
   "cell_type": "code",
   "execution_count": 27,
   "id": "fb463ff1-a50c-47fb-a1ae-8416867eca2a",
   "metadata": {},
   "outputs": [
    {
     "data": {
      "text/plain": [
       "Column<'model LIKE Ho%'>"
      ]
     },
     "execution_count": 27,
     "metadata": {},
     "output_type": "execute_result"
    }
   ],
   "source": [
    "# create model_like condition to filter model values start with 'Ho'\n",
    "model_like = mtcars.model.like('Ho%')\n",
    "model_like"
   ]
  },
  {
   "cell_type": "code",
   "execution_count": 28,
   "id": "590e9d9f-b95a-4e0b-b1bd-518761ca9c54",
   "metadata": {},
   "outputs": [
    {
     "name": "stdout",
     "output_type": "stream",
     "text": [
      "+-----------------+--------------+\n",
      "|            model|model LIKE Ho%|\n",
      "+-----------------+--------------+\n",
      "|        Mazda RX4|         false|\n",
      "|    Mazda RX4 Wag|         false|\n",
      "|       Datsun 710|         false|\n",
      "|   Hornet 4 Drive|          true|\n",
      "|Hornet Sportabout|          true|\n",
      "|          Valiant|         false|\n",
      "|       Duster 360|         false|\n",
      "|        Merc 240D|         false|\n",
      "|         Merc 230|         false|\n",
      "|         Merc 280|         false|\n",
      "+-----------------+--------------+\n",
      "only showing top 10 rows\n",
      "\n"
     ]
    }
   ],
   "source": [
    "# show 10 rows of model column and the bollean value of whether it is in model_like condition\n",
    "mtcars.select(mtcars.model, model_like).show(10)"
   ]
  },
  {
   "cell_type": "markdown",
   "id": "f9976165-0c25-42ec-890c-6d6918bc756f",
   "metadata": {},
   "source": [
    "## rlike() : true/false if the column value matches a pattern based on a SQL RLike (LIKE with Regex)"
   ]
  },
  {
   "cell_type": "code",
   "execution_count": 29,
   "id": "2ba18218-b434-4317-9e0d-f228bb01c03c",
   "metadata": {},
   "outputs": [
    {
     "data": {
      "text/plain": [
       "Column<'RLIKE(model, t$)'>"
      ]
     },
     "execution_count": 29,
     "metadata": {},
     "output_type": "execute_result"
    }
   ],
   "source": [
    "# create model_rlike condition to filter model values end with 't'\n",
    "model_rlike = mtcars.model.rlike('t$')\n",
    "model_rlike "
   ]
  },
  {
   "cell_type": "code",
   "execution_count": 30,
   "id": "28039a0d-e23c-47fc-a402-1efe2f63c71d",
   "metadata": {},
   "outputs": [
    {
     "name": "stdout",
     "output_type": "stream",
     "text": [
      "+-------------------+----------------+\n",
      "|              model|RLIKE(model, t$)|\n",
      "+-------------------+----------------+\n",
      "|          Mazda RX4|           false|\n",
      "|      Mazda RX4 Wag|           false|\n",
      "|         Datsun 710|           false|\n",
      "|     Hornet 4 Drive|           false|\n",
      "|  Hornet Sportabout|            true|\n",
      "|            Valiant|            true|\n",
      "|         Duster 360|           false|\n",
      "|          Merc 240D|           false|\n",
      "|           Merc 230|           false|\n",
      "|           Merc 280|           false|\n",
      "|          Merc 280C|           false|\n",
      "|         Merc 450SE|           false|\n",
      "|         Merc 450SL|           false|\n",
      "|        Merc 450SLC|           false|\n",
      "| Cadillac Fleetwood|           false|\n",
      "|Lincoln Continental|           false|\n",
      "|  Chrysler Imperial|           false|\n",
      "|           Fiat 128|           false|\n",
      "|        Honda Civic|           false|\n",
      "|     Toyota Corolla|           false|\n",
      "+-------------------+----------------+\n",
      "only showing top 20 rows\n",
      "\n"
     ]
    }
   ],
   "source": [
    "# show rows of model column and the bollean value of whether it is in model_rlike condition\n",
    "mtcars.select(mtcars.model, model_rlike).show()"
   ]
  },
  {
   "cell_type": "markdown",
   "id": "1de90be9-7950-4a24-9e54-19a78de0dc98",
   "metadata": {},
   "source": [
    "## startswith(): true/false if the column value starts with a string"
   ]
  },
  {
   "cell_type": "code",
   "execution_count": 33,
   "id": "992cddb3-d5e4-4bb7-892d-11110f60f8ac",
   "metadata": {},
   "outputs": [
    {
     "data": {
      "text/plain": [
       "Column<'startswith(model, Merc)'>"
      ]
     },
     "execution_count": 33,
     "metadata": {},
     "output_type": "execute_result"
    }
   ],
   "source": [
    "# create model_startswithcondition to filter model values start with 'Merc'\n",
    "model_startswith = mtcars.model.startswith('Merc')\n",
    "model_startswith "
   ]
  },
  {
   "cell_type": "code",
   "execution_count": 34,
   "id": "9dc80fb1-f1da-4524-9983-5790a1d86119",
   "metadata": {},
   "outputs": [
    {
     "name": "stdout",
     "output_type": "stream",
     "text": [
      "+-------------------+-----------------------+\n",
      "|              model|startswith(model, Merc)|\n",
      "+-------------------+-----------------------+\n",
      "|          Mazda RX4|                  false|\n",
      "|      Mazda RX4 Wag|                  false|\n",
      "|         Datsun 710|                  false|\n",
      "|     Hornet 4 Drive|                  false|\n",
      "|  Hornet Sportabout|                  false|\n",
      "|            Valiant|                  false|\n",
      "|         Duster 360|                  false|\n",
      "|          Merc 240D|                   true|\n",
      "|           Merc 230|                   true|\n",
      "|           Merc 280|                   true|\n",
      "|          Merc 280C|                   true|\n",
      "|         Merc 450SE|                   true|\n",
      "|         Merc 450SL|                   true|\n",
      "|        Merc 450SLC|                   true|\n",
      "| Cadillac Fleetwood|                  false|\n",
      "|Lincoln Continental|                  false|\n",
      "|  Chrysler Imperial|                  false|\n",
      "|           Fiat 128|                  false|\n",
      "|        Honda Civic|                  false|\n",
      "|     Toyota Corolla|                  false|\n",
      "+-------------------+-----------------------+\n",
      "only showing top 20 rows\n",
      "\n"
     ]
    }
   ],
   "source": [
    "mtcars.select(mtcars.model, model_startswith).show()"
   ]
  },
  {
   "cell_type": "code",
   "execution_count": null,
   "id": "48124fe9-35d8-49d1-839a-7dd69f61a375",
   "metadata": {},
   "outputs": [],
   "source": []
  }
 ],
 "metadata": {
  "kernelspec": {
   "display_name": "Python 3 (ipykernel)",
   "language": "python",
   "name": "python3"
  },
  "language_info": {
   "codemirror_mode": {
    "name": "ipython",
    "version": 3
   },
   "file_extension": ".py",
   "mimetype": "text/x-python",
   "name": "python",
   "nbconvert_exporter": "python",
   "pygments_lexer": "ipython3",
   "version": "3.9.18"
  }
 },
 "nbformat": 4,
 "nbformat_minor": 5
}
