{
 "cells": [
  {
   "cell_type": "code",
   "execution_count": 1,
   "id": "cf255809-4f2f-4430-bc59-6eb4f62bc4fa",
   "metadata": {},
   "outputs": [],
   "source": [
    "# using findspark, SparkConf and SparkContext to set up the Spark environent, create a SparkSession\n",
    "import findspark\n",
    "findspark.init()\n",
    "from pyspark import SparkConf, SparkContext\n",
    "from pyspark.sql import SparkSession"
   ]
  },
  {
   "cell_type": "code",
   "execution_count": 2,
   "id": "3f29eb74-f22a-4a3f-b3e7-1f96a46cef7b",
   "metadata": {},
   "outputs": [
    {
     "name": "stderr",
     "output_type": "stream",
     "text": [
      "Setting default log level to \"WARN\".\n",
      "To adjust logging level use sc.setLogLevel(newLevel). For SparkR, use setLogLevel(newLevel).\n",
      "25/02/27 16:53:54 WARN NativeCodeLoader: Unable to load native-hadoop library for your platform... using builtin-java classes where applicable\n"
     ]
    }
   ],
   "source": [
    "sc = SparkContext(conf=SparkConf())\n",
    "spark = SparkSession(sparkContext=sc)"
   ]
  },
  {
   "cell_type": "code",
   "execution_count": 3,
   "id": "4c702200-a36b-4f8a-b5e7-22af2b59c5a2",
   "metadata": {},
   "outputs": [],
   "source": [
    "# work with dense and sparse vectors in PySpark using the pyspark.ml.linalg module"
   ]
  },
  {
   "cell_type": "code",
   "execution_count": 4,
   "id": "c2174d9f-e418-48c2-9fb1-48edf5c5ca3b",
   "metadata": {},
   "outputs": [],
   "source": [
    "from pyspark.ml.linalg import Vector, DenseVector, SparseVector"
   ]
  },
  {
   "cell_type": "markdown",
   "id": "ea0da943-1a35-4778-abf5-0fa7e1319de2",
   "metadata": {},
   "source": [
    "# Dense vector and sparse vector\n",
    "A vector can be represented in dense and sparse formats.\n",
    "A dense vector is a regular vector that has each elements printed.\n",
    "A sparse vector use three components to represent a vector but with less memory."
   ]
  },
  {
   "cell_type": "code",
   "execution_count": 5,
   "id": "6ec35bb4-665e-4f98-b4c2-97dcc9be50d8",
   "metadata": {},
   "outputs": [
    {
     "data": {
      "text/plain": [
       "DenseVector([1.0, 0.0, 0.0, 0.0, 4.5, 0.0])"
      ]
     },
     "execution_count": 5,
     "metadata": {},
     "output_type": "execute_result"
    }
   ],
   "source": [
    "dv = DenseVector([1.0, 0., 0., 0., 4.5, 0])\n",
    "dv"
   ]
  },
  {
   "cell_type": "markdown",
   "id": "08f01842-6493-4cb0-836f-453f157ad6dc",
   "metadata": {},
   "source": [
    "## Three components of a sparse vector\n",
    "* vector size\n",
    "* indices of active elements\n",
    "* values of active elements\n",
    "In the above dense vector:\n",
    "* vector size = 6\n",
    "* indices of active elements = [0, 4]\n",
    "* values of active elements = [1.0, 4.5]\n",
    "We can use the SparseVector() function to create a sparse vector.\n",
    "The first argument is the vector size, the second argument is a dictionary.\n",
    "The keys are indices of active elements and the values are values of active elements."
   ]
  },
  {
   "cell_type": "code",
   "execution_count": 6,
   "id": "7647b96e-54b9-4702-a23c-2222b408a1a9",
   "metadata": {},
   "outputs": [
    {
     "data": {
      "text/plain": [
       "SparseVector(6, {0: 1.0, 4: 4.5})"
      ]
     },
     "execution_count": 6,
     "metadata": {},
     "output_type": "execute_result"
    }
   ],
   "source": [
    "sv = SparseVector(6, {0:1.0, 4:4.5})\n",
    "sv"
   ]
  },
  {
   "cell_type": "code",
   "execution_count": 7,
   "id": "47d2f668-bf2f-4a2c-a042-b0a2584d644d",
   "metadata": {},
   "outputs": [],
   "source": [
    "## Convert sparse vector to dense vector"
   ]
  },
  {
   "cell_type": "code",
   "execution_count": 8,
   "id": "56b3a756-ad9c-4379-9b28-a4d065e41517",
   "metadata": {},
   "outputs": [
    {
     "data": {
      "text/plain": [
       "DenseVector([1.0, 0.0, 0.0, 0.0, 4.5, 0.0])"
      ]
     },
     "execution_count": 8,
     "metadata": {},
     "output_type": "execute_result"
    }
   ],
   "source": [
    "DenseVector(sv.toArray())"
   ]
  },
  {
   "cell_type": "markdown",
   "id": "8bc9eaf5-9489-4709-8555-1acf82b2d131",
   "metadata": {},
   "source": [
    "## Convert dense vector to sparse vector"
   ]
  },
  {
   "cell_type": "code",
   "execution_count": 9,
   "id": "246da4fc-a87a-43a2-9a16-af916aea56f1",
   "metadata": {},
   "outputs": [
    {
     "data": {
      "text/plain": [
       "{0: 1.0, 4: 4.5}"
      ]
     },
     "execution_count": 9,
     "metadata": {},
     "output_type": "execute_result"
    }
   ],
   "source": [
    "active_elements_dict = {index: value for index, value in enumerate(dv) if value != 0}\n",
    "active_elements_dict"
   ]
  },
  {
   "cell_type": "code",
   "execution_count": 10,
   "id": "5590e664-4b8d-4409-92b5-cbdb55be1a18",
   "metadata": {},
   "outputs": [
    {
     "data": {
      "text/plain": [
       "SparseVector(6, {0: 1.0, 4: 4.5})"
      ]
     },
     "execution_count": 10,
     "metadata": {},
     "output_type": "execute_result"
    }
   ],
   "source": [
    "SparseVector(len(dv), active_elements_dict)"
   ]
  },
  {
   "cell_type": "code",
   "execution_count": null,
   "id": "25700045-03fc-46e9-b5b4-3fd6d959de40",
   "metadata": {},
   "outputs": [],
   "source": []
  }
 ],
 "metadata": {
  "kernelspec": {
   "display_name": "Python 3 (ipykernel)",
   "language": "python",
   "name": "python3"
  },
  "language_info": {
   "codemirror_mode": {
    "name": "ipython",
    "version": 3
   },
   "file_extension": ".py",
   "mimetype": "text/x-python",
   "name": "python",
   "nbconvert_exporter": "python",
   "pygments_lexer": "ipython3",
   "version": "3.9.18"
  }
 },
 "nbformat": 4,
 "nbformat_minor": 5
}
