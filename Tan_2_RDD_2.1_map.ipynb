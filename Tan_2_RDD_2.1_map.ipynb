{
 "cells": [
  {
   "cell_type": "markdown",
   "id": "bb0f4aed-bd3f-4f6f-a613-884177feca30",
   "metadata": {},
   "source": [
    "## 2.1 RDD Map Function"
   ]
  },
  {
   "cell_type": "code",
   "execution_count": 13,
   "id": "ab8a503e-bd00-4ebf-92b6-a5716ada93ba",
   "metadata": {},
   "outputs": [],
   "source": [
    "import findspark\n",
    "findspark.init()"
   ]
  },
  {
   "cell_type": "code",
   "execution_count": 14,
   "id": "f2a2a14a-71ec-42fb-8672-47294ebdc087",
   "metadata": {},
   "outputs": [
    {
     "name": "stderr",
     "output_type": "stream",
     "text": [
      "25/01/24 20:51:10 WARN Utils: Service 'SparkUI' could not bind on port 4040. Attempting port 4041.\n",
      "25/01/24 20:51:10 WARN Utils: Service 'SparkUI' could not bind on port 4041. Attempting port 4042.\n",
      "25/01/24 20:51:10 WARN Utils: Service 'SparkUI' could not bind on port 4042. Attempting port 4043.\n"
     ]
    }
   ],
   "source": [
    "# create entry points to spark\n",
    "try:\n",
    "    sc.stop()\n",
    "except:\n",
    "    pass\n",
    "from pyspark import SparkContext, SparkConf\n",
    "from pyspark.sql import SparkSession\n",
    "sc = SparkContext()\n",
    "spark = SparkSession(sparkContext=sc)"
   ]
  },
  {
   "cell_type": "markdown",
   "id": "1a052287-ae33-43f6-b021-345c6e51c43f",
   "metadata": {},
   "source": [
    "### Map Functions"
   ]
  },
  {
   "cell_type": "markdown",
   "id": "0b032763-aacf-46ff-a7a1-35d4347d89be",
   "metadata": {},
   "source": [
    "These functions are probably the most commonly used functions when dealing with an RDD object.\n",
    "\n",
    "map()\n",
    "mapValues()\n",
    "flatMap()\n",
    "flatMapValues()\n",
    "map\n",
    "\n",
    "The map() method applies a function to each elements of the RDD. \n",
    "Each element has to be a valid input to the function.\n",
    "The returned RDD has the function outputs as its new elements.\n",
    "\n",
    "Elements in the RDD object map_exp_rdd below are rows of the mtcars in string format. \n",
    "We are going to apply the map() function multiple times to convert each string elements as a list elements.\n",
    "Each list element has two values: the first value will be the auto model in string format;\n",
    "the second value will be a list of numeric values."
   ]
  },
  {
   "cell_type": "code",
   "execution_count": 15,
   "id": "a707af1c-5c5d-46dc-bfad-52c0c34e80e1",
   "metadata": {},
   "outputs": [
    {
     "name": "stderr",
     "output_type": "stream",
     "text": [
      "                                                                                \r"
     ]
    },
    {
     "data": {
      "text/plain": [
       "[',mpg,cyl,disp,hp,drat,wt,qsec,vs,am,gear,carb',\n",
       " 'Mazda RX4,21,6,160,110,3.9,2.62,16.46,0,1,4,4',\n",
       " 'Mazda RX4 Wag,21,6,160,110,3.9,2.875,17.02,0,1,4,4',\n",
       " 'Datsun 710,22.8,4,108,93,3.85,2.32,18.61,1,1,4,1']"
      ]
     },
     "execution_count": 15,
     "metadata": {},
     "output_type": "execute_result"
    }
   ],
   "source": [
    "#  create an example RDD\n",
    "map_exp_rdd = sc.textFile('data/SparkData/mtcars.csv')\n",
    "map_exp_rdd.take(4)"
   ]
  },
  {
   "cell_type": "code",
   "execution_count": 16,
   "id": "148a6624-8dba-4367-86a7-d71117f12c77",
   "metadata": {},
   "outputs": [
    {
     "data": {
      "text/plain": [
       "[('',\n",
       "  ['mpg',\n",
       "   'cyl',\n",
       "   'disp',\n",
       "   'hp',\n",
       "   'drat',\n",
       "   'wt',\n",
       "   'qsec',\n",
       "   'vs',\n",
       "   'am',\n",
       "   'gear',\n",
       "   'carb']),\n",
       " ('Mazda RX4',\n",
       "  ['21', '6', '160', '110', '3.9', '2.62', '16.46', '0', '1', '4', '4']),\n",
       " ('Mazda RX4 Wag',\n",
       "  ['21', '6', '160', '110', '3.9', '2.875', '17.02', '0', '1', '4', '4']),\n",
       " ('Datsun 710',\n",
       "  ['22.8', '4', '108', '93', '3.85', '2.32', '18.61', '1', '1', '4', '1'])]"
      ]
     },
     "execution_count": 16,
     "metadata": {},
     "output_type": "execute_result"
    }
   ],
   "source": [
    "# split auto model from other feature values\n",
    "map_exp_rdd_1 = map_exp_rdd.map(lambda x: x.split(',')).map(lambda x: (x[0], x[1:]))\n",
    "map_exp_rdd_1.take(4)"
   ]
  },
  {
   "cell_type": "code",
   "execution_count": 17,
   "id": "7344d1f1-1710-4c94-a13b-36860b20fb64",
   "metadata": {},
   "outputs": [
    {
     "data": {
      "text/plain": [
       "[('Mazda RX4',\n",
       "  ['21', '6', '160', '110', '3.9', '2.62', '16.46', '0', '1', '4', '4']),\n",
       " ('Mazda RX4 Wag',\n",
       "  ['21', '6', '160', '110', '3.9', '2.875', '17.02', '0', '1', '4', '4']),\n",
       " ('Datsun 710',\n",
       "  ['22.8', '4', '108', '93', '3.85', '2.32', '18.61', '1', '1', '4', '1']),\n",
       " ('Hornet 4 Drive',\n",
       "  ['21.4', '6', '258', '110', '3.08', '3.215', '19.44', '1', '0', '3', '1'])]"
      ]
     },
     "execution_count": 17,
     "metadata": {},
     "output_type": "execute_result"
    }
   ],
   "source": [
    "# remove the header row\n",
    "header = map_exp_rdd_1.first()\n",
    "# the filter method apply a function to each elements. \n",
    "# The function output is a boolean value (True or False)\n",
    "# elements that have outpu True will be kept.\n",
    "map_exp_rdd_2 = map_exp_rdd_1.filter(lambda x: x != header)\n",
    "map_exp_rdd_2.take(4)"
   ]
  },
  {
   "cell_type": "code",
   "execution_count": 18,
   "id": "f2bf3da2-3d06-4266-941d-8076a96f16f0",
   "metadata": {},
   "outputs": [
    {
     "data": {
      "text/plain": [
       "[('Mazda RX4',\n",
       "  [21.0, 6.0, 160.0, 110.0, 3.9, 2.62, 16.46, 0.0, 1.0, 4.0, 4.0]),\n",
       " ('Mazda RX4 Wag',\n",
       "  [21.0, 6.0, 160.0, 110.0, 3.9, 2.875, 17.02, 0.0, 1.0, 4.0, 4.0]),\n",
       " ('Datsun 710',\n",
       "  [22.8, 4.0, 108.0, 93.0, 3.85, 2.32, 18.61, 1.0, 1.0, 4.0, 1.0]),\n",
       " ('Hornet 4 Drive',\n",
       "  [21.4, 6.0, 258.0, 110.0, 3.08, 3.215, 19.44, 1.0, 0.0, 3.0, 1.0])]"
      ]
     },
     "execution_count": 18,
     "metadata": {},
     "output_type": "execute_result"
    }
   ],
   "source": [
    "# convert string values to numeric values\n",
    "map_exp_rdd_3 = map_exp_rdd_2.map(lambda x: (x[0], list(map(float, x[1]))))\n",
    "map_exp_rdd_3.take(4)"
   ]
  },
  {
   "cell_type": "markdown",
   "id": "22252180-0e18-45dd-8091-48beb4c1a604",
   "metadata": {},
   "source": [
    "### mapValues"
   ]
  },
  {
   "cell_type": "markdown",
   "id": "e5d8a1d8-27f8-4733-b2a2-30851fa81be4",
   "metadata": {},
   "source": [
    "The mapValues function required that each element in the RDD has a key/value pair structure, for example, a tuple of 2 items, or a list of 2 items. \n",
    "The mapValues function applies a function to each of the element valuees.\n",
    "The element key will remain unchanged.\n",
    "We can apply the mapValues function to the RDD object mapValues_exp_rdd below."
   ]
  },
  {
   "cell_type": "code",
   "execution_count": 19,
   "id": "20e8ceef-7ae5-4627-8227-ca8339530e34",
   "metadata": {},
   "outputs": [
    {
     "data": {
      "text/plain": [
       "[',mpg,cyl,disp,hp,drat,wt,qsec,vs,am,gear,carb',\n",
       " 'Mazda RX4,21,6,160,110,3.9,2.62,16.46,0,1,4,4',\n",
       " 'Mazda RX4 Wag,21,6,160,110,3.9,2.875,17.02,0,1,4,4',\n",
       " 'Datsun 710,22.8,4,108,93,3.85,2.32,18.61,1,1,4,1']"
      ]
     },
     "execution_count": 19,
     "metadata": {},
     "output_type": "execute_result"
    }
   ],
   "source": [
    "#  create an example RDD\n",
    "map_exp_rdd = sc.textFile('data/SparkData/mtcars.csv')\n",
    "map_exp_rdd.take(4)"
   ]
  },
  {
   "cell_type": "code",
   "execution_count": 20,
   "id": "b394567e-84f8-4a5b-9a8f-5da7208b8c55",
   "metadata": {},
   "outputs": [
    {
     "data": {
      "text/plain": [
       "[('Mazda RX4',\n",
       "  [21.0, 6.0, 160.0, 110.0, 3.9, 2.62, 16.46, 0.0, 1.0, 4.0, 4.0]),\n",
       " ('Mazda RX4 Wag',\n",
       "  [21.0, 6.0, 160.0, 110.0, 3.9, 2.875, 17.02, 0.0, 1.0, 4.0, 4.0]),\n",
       " ('Datsun 710',\n",
       "  [22.8, 4.0, 108.0, 93.0, 3.85, 2.32, 18.61, 1.0, 1.0, 4.0, 1.0]),\n",
       " ('Hornet 4 Drive',\n",
       "  [21.4, 6.0, 258.0, 110.0, 3.08, 3.215, 19.44, 1.0, 0.0, 3.0, 1.0])]"
      ]
     },
     "execution_count": 20,
     "metadata": {},
     "output_type": "execute_result"
    }
   ],
   "source": [
    "mapValues_exp_rdd = map_exp_rdd_3\n",
    "mapValues_exp_rdd.take(4)"
   ]
  },
  {
   "cell_type": "code",
   "execution_count": 21,
   "id": "5d061b55-6301-4cab-b60a-d363c39641e8",
   "metadata": {},
   "outputs": [
    {
     "data": {
      "text/plain": [
       "[('Mazda RX4', 29.90727272727273),\n",
       " ('Mazda RX4 Wag', 29.98136363636364),\n",
       " ('Datsun 710', 23.59818181818182),\n",
       " ('Hornet 4 Drive', 38.73954545454546)]"
      ]
     },
     "execution_count": 21,
     "metadata": {},
     "output_type": "execute_result"
    }
   ],
   "source": [
    "import numpy as np\n",
    "mapValues_exp_rdd_1 = mapValues_exp_rdd.mapValues(lambda x: np.mean(x))\n",
    "mapValues_exp_rdd_1.take(4)"
   ]
  },
  {
   "cell_type": "markdown",
   "id": "8475f06f-383e-43b2-8b82-de1e6e062d3e",
   "metadata": {},
   "source": [
    "When using mapValues(), the x in the above lambda function refers to the element value, \n",
    "not including the element key."
   ]
  },
  {
   "cell_type": "markdown",
   "id": "fc46d7d4-346b-4b7f-a659-e255362798c6",
   "metadata": {},
   "source": [
    "### flatMap\n",
    "This function first applies a function to each elements of an RDD and them flatten the results.\n",
    "We can simple use this function to flatten elements of an RDD without extra operation on each elements."
   ]
  },
  {
   "cell_type": "code",
   "execution_count": 23,
   "id": "486298f1-b148-4610-8dd2-967c7f5c2c4a",
   "metadata": {},
   "outputs": [
    {
     "data": {
      "text/plain": [
       "[('a', 'b', 'c'), ('a', 'a'), ('c', 'c', 'c', 'd')]"
      ]
     },
     "execution_count": 23,
     "metadata": {},
     "output_type": "execute_result"
    }
   ],
   "source": [
    "x = [('a', 'b', 'c'), ('a', 'a'), ('c', 'c', 'c', 'd')]\n",
    "flatMap_exp_rdd = sc.parallelize(x)\n",
    "flatMap_exp_rdd.collect()"
   ]
  },
  {
   "cell_type": "markdown",
   "id": "dd6615ff-1516-4a6a-95cd-244d39d5ffe6",
   "metadata": {},
   "source": [
    "### flatMapValues\n",
    "The flatMapValues function requires that each element in the RDD has a key/value pair structure.\n",
    "It applies a function to each element value of the RDD object and then flatten the results.\n",
    "For example, my raw data looks like below. \n",
    "But I would like to transform the data so that it has three columns:\n",
    "the first column is the sample id;\n",
    "the second column is the three types(A, B or C);\n",
    "the third column is the values."
   ]
  },
  {
   "cell_type": "markdown",
   "id": "1cd7810b-c2ba-461e-b713-f9cbadb279dc",
   "metadata": {},
   "source": [
    "'''\n",
    "sample id    A    B    C\n",
    "       1    23    18    32\n",
    "       2    18    29    31\n",
    "       3    34    21    18\n",
    "'''"
   ]
  },
  {
   "cell_type": "code",
   "execution_count": 25,
   "id": "13106f59-1274-4fc6-ac47-07a259e70a0f",
   "metadata": {},
   "outputs": [
    {
     "data": {
      "text/plain": [
       "[[1, (23, 28, 32)], [2, (18, 29, 31)], [3, (34, 21, 18)]]"
      ]
     },
     "execution_count": 25,
     "metadata": {},
     "output_type": "execute_result"
    }
   ],
   "source": [
    "# example data\n",
    "my_data = [\n",
    "    [1, (23, 28, 32)],\n",
    "    [2, (18, 29, 31)],\n",
    "    [3, (34, 21, 18)]\n",
    "]\n",
    "flatMapValues_exp_rdd = sc.parallelize(my_data)\n",
    "flatMapValues_exp_rdd.collect()"
   ]
  },
  {
   "cell_type": "code",
   "execution_count": 26,
   "id": "5100a474-9417-4691-b1fe-99413e0b6009",
   "metadata": {},
   "outputs": [
    {
     "data": {
      "text/plain": [
       "[(1, ('A', 23)),\n",
       " (1, ('B', 28)),\n",
       " (1, ('C', 32)),\n",
       " (2, ('A', 18)),\n",
       " (2, ('B', 29)),\n",
       " (2, ('C', 31)),\n",
       " (3, ('A', 34)),\n",
       " (3, ('B', 21)),\n",
       " (3, ('C', 18))]"
      ]
     },
     "execution_count": 26,
     "metadata": {},
     "output_type": "execute_result"
    }
   ],
   "source": [
    "# merge A,B and C columns into on column and add the type column\n",
    "flatMapValues_exp_rdd_1 = flatMapValues_exp_rdd.flatMapValues(lambda x: list(zip(list('ABC'), x)))\n",
    "flatMapValues_exp_rdd_1.collect()"
   ]
  },
  {
   "cell_type": "code",
   "execution_count": null,
   "id": "95c53cf0-dd30-41bb-b6b1-51baf6edcce3",
   "metadata": {},
   "outputs": [],
   "source": [
    "# unpack the element values\n",
    "flatMapValues_exp_rdd_2 = flatMapValues_exp_rdd_1.map("
   ]
  }
 ],
 "metadata": {
  "kernelspec": {
   "display_name": "Python 3 (ipykernel)",
   "language": "python",
   "name": "python3"
  },
  "language_info": {
   "codemirror_mode": {
    "name": "ipython",
    "version": 3
   },
   "file_extension": ".py",
   "mimetype": "text/x-python",
   "name": "python",
   "nbconvert_exporter": "python",
   "pygments_lexer": "ipython3",
   "version": "3.9.18"
  }
 },
 "nbformat": 4,
 "nbformat_minor": 5
}
