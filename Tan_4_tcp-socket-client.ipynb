{
 "cells": [
  {
   "cell_type": "code",
   "execution_count": 1,
   "id": "56b16fe0-2b57-45d1-931b-7dd1456e2ea5",
   "metadata": {},
   "outputs": [
    {
     "data": {
      "text/plain": [
       "'\\nThis is a socket client program that connects to a socket server, \\nrecieves random CSV lines sent by the server with spark streaming \\nand prints them to the terminal.\\nIt continues to receive messages until the user types \"bye\" to stop the connection  \\n'"
      ]
     },
     "execution_count": 1,
     "metadata": {},
     "output_type": "execute_result"
    }
   ],
   "source": [
    "'''\n",
    "This is a socket client program that connects to a socket server, \n",
    "recieves random CSV lines sent by the server with spark streaming \n",
    "and prints them to the terminal.\n",
    "It continues to receive messages until the user types \"bye\" to stop the connection  \n",
    "'''"
   ]
  },
  {
   "cell_type": "code",
   "execution_count": 2,
   "id": "0287ae36-fe65-49cd-a14e-f0ba763bf4d9",
   "metadata": {},
   "outputs": [],
   "source": [
    "import socket\n",
    "# get the hostname of the current machine, both server and client are running on the same pc\n",
    "host = socket.gethostname()      \n",
    "port = 21001                                  # port number socket server will listen on"
   ]
  },
  {
   "cell_type": "code",
   "execution_count": 3,
   "id": "df8d2405-79c4-4666-8aa1-b25e06885cf6",
   "metadata": {},
   "outputs": [],
   "source": [
    "clientSocket = socket.socket()                # instantiate\n",
    "clientSocket.connect((host, port))            # connect to the server using the host and port"
   ]
  },
  {
   "cell_type": "code",
   "execution_count": 4,
   "id": "1f3fc602-739d-4e4d-8ce3-79c571a52f33",
   "metadata": {},
   "outputs": [
    {
     "name": "stdin",
     "output_type": "stream",
     "text": [
      " (to stop, enter bye)->  bye\n"
     ]
    }
   ],
   "source": [
    "msg = input(\" (to stop, enter bye)-> \")       # take input\n",
    "# loop to receive messages from the server until the user types 'bye'\n",
    "while msg.lower().strip() != 'bye':\n",
    "# client_socket.send(message.encode())        # send message\n",
    "    data = clientSocket.recv(1024).decode()   # receive response up tp 1024 bytes of data and decode\n",
    "    print(data)                               # show in termianl\n",
    "    msg = input(\" (to stop, enter bye)-> \")   # again take input, continue the loop until 'bye' is entered"
   ]
  },
  {
   "cell_type": "code",
   "execution_count": null,
   "id": "14f406c3-3829-4a29-b552-ca19da8ac7a8",
   "metadata": {},
   "outputs": [],
   "source": [
    "clientSocket.close()                          # close the connection"
   ]
  },
  {
   "cell_type": "code",
   "execution_count": null,
   "id": "16ce7178-f40b-45c5-b923-bf328bb44456",
   "metadata": {},
   "outputs": [],
   "source": []
  }
 ],
 "metadata": {
  "kernelspec": {
   "display_name": "Python 3 (ipykernel)",
   "language": "python",
   "name": "python3"
  },
  "language_info": {
   "codemirror_mode": {
    "name": "ipython",
    "version": 3
   },
   "file_extension": ".py",
   "mimetype": "text/x-python",
   "name": "python",
   "nbconvert_exporter": "python",
   "pygments_lexer": "ipython3",
   "version": "3.9.18"
  }
 },
 "nbformat": 4,
 "nbformat_minor": 5
}
