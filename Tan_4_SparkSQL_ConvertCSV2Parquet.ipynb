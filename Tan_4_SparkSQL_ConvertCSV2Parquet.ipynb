{
 "cells": [
  {
   "cell_type": "code",
   "execution_count": 2,
   "id": "90515261-253b-4320-95bd-0b05991d5ab4",
   "metadata": {},
   "outputs": [],
   "source": [
    "# Initialize the Spark environment and imports the necessary libraries to work with Spark and SparkSQL"
   ]
  },
  {
   "cell_type": "code",
   "execution_count": 33,
   "id": "9d72055f-a74c-4dc2-9ce9-2b28477893a9",
   "metadata": {},
   "outputs": [],
   "source": [
    "import findspark\n",
    "findspark.init()\n",
    "import pyspark\n",
    "from pyspark.sql import SparkSession"
   ]
  },
  {
   "cell_type": "code",
   "execution_count": 34,
   "id": "45825e18-5c75-4d19-a686-04cdef70e68e",
   "metadata": {},
   "outputs": [],
   "source": [
    "# Creates a SparkSession to manage the execution of Spark SQL jobs and read/write data in Spark"
   ]
  },
  {
   "cell_type": "code",
   "execution_count": 35,
   "id": "201ea8a3-324b-47e7-b8f1-cb2814ece7a7",
   "metadata": {},
   "outputs": [
    {
     "name": "stderr",
     "output_type": "stream",
     "text": [
      "Setting default log level to \"WARN\".\n",
      "To adjust logging level use sc.setLogLevel(newLevel). For SparkR, use setLogLevel(newLevel).\n",
      "25/02/25 22:46:16 WARN NativeCodeLoader: Unable to load native-hadoop library for your platform... using builtin-java classes where applicable\n",
      "25/02/25 22:46:17 WARN Utils: Service 'SparkUI' could not bind on port 4040. Attempting port 4041.\n"
     ]
    }
   ],
   "source": [
    "# Logger.getLogger(\"org\").setLevel(Level.ERROR)         # set the logging level to ERROR for Spark logs\n",
    "# set the name for the spark application, run Spark locally using all available cores, \n",
    "# get location for Spark SQL warehouse, creates or gets an existing SparkSession\n",
    "spark = SparkSession \\\n",
    "    .builder \\\n",
    "    .appName(\"csv2parquet\") \\\n",
    "    .master(\"local[*]\") \\\n",
    "    .config(\"spark.sql.warehouse.dir\", \"file:///tmp\") \\\n",
    "    .getOrCreate()"
   ]
  },
  {
   "cell_type": "code",
   "execution_count": 36,
   "id": "86b9a0fa-9a9c-4c84-a7e0-0223d893eec7",
   "metadata": {},
   "outputs": [],
   "source": [
    "# Creates a SparkContext object and set log level to \"Error\" to avoid unnecessary log messages"
   ]
  },
  {
   "cell_type": "code",
   "execution_count": 37,
   "id": "74a27ee3-24d9-4288-a259-5b5715206c6f",
   "metadata": {},
   "outputs": [],
   "source": [
    "sc = spark.sparkContext"
   ]
  },
  {
   "cell_type": "code",
   "execution_count": 38,
   "id": "e22aee7c-c8c8-47a0-b762-138a3d5668cb",
   "metadata": {},
   "outputs": [],
   "source": [
    "sc.setLogLevel(\"ERROR\")"
   ]
  },
  {
   "cell_type": "code",
   "execution_count": 42,
   "id": "ea161fef-aaab-4132-83d0-460d64ef4272",
   "metadata": {},
   "outputs": [],
   "source": [
    "# reads a csv file into a DataFrame, display the first few rows without truncating"
   ]
  },
  {
   "cell_type": "code",
   "execution_count": 44,
   "id": "5dba0360-42f3-49f4-87f3-e6947b8d0272",
   "metadata": {},
   "outputs": [
    {
     "name": "stderr",
     "output_type": "stream",
     "text": [
      "                                                                                \r"
     ]
    }
   ],
   "source": [
    "ds = spark.read.format(\"csv\").option(\"header\", \"false\").option(\"quote\", \"\\\"\").load(\"/notebooks/ticker_symbol.csv\")"
   ]
  },
  {
   "cell_type": "code",
   "execution_count": 45,
   "id": "ff7cc3cd-1d68-43c9-b8c3-6096b4a99767",
   "metadata": {},
   "outputs": [
    {
     "name": "stdout",
     "output_type": "stream",
     "text": [
      "+------+-------------------------------+--------+---------------------------+--------------+----+\n",
      "|_c0   |_c1                            |_c2     |_c3                        |_c4           |_c5 |\n",
      "+------+-------------------------------+--------+---------------------------+--------------+----+\n",
      "|Ticker|Name                           |Exchange|CategoryName               |CategoryNumber|NULL|\n",
      "|AUB.AX|Austbrokers Holdings Limited   |ASX     |Accident & Health Insurance|431           |NULL|\n",
      "|GLRE  |Greenlight Capital Re, Ltd.    |NMS     |Accident & Health Insurance|431           |NULL|\n",
      "|SFG   |StanCorp Financial Group Inc.  |NYQ     |Accident & Health Insurance|431           |NULL|\n",
      "|AMIC  |American Independence Corp.    |NGM     |Accident & Health Insurance|431           |NULL|\n",
      "|GTS   |Triple-S Management Corporation|NYQ     |Accident & Health Insurance|431           |NULL|\n",
      "|LRE.L |Lancashire Holdings Limited    |LSE     |Accident & Health Insurance|431           |NULL|\n",
      "|EIG   |Employers Holdings, Inc.       |NYQ     |Accident & Health Insurance|431           |NULL|\n",
      "|AIZ   |Assurant Inc.                  |NYQ     |Accident & Health Insurance|431           |NULL|\n",
      "|NHF.AX|NIB Holdings Limited           |ASX     |Accident & Health Insurance|431           |NULL|\n",
      "|PRA   |ProAssurance Corporation       |NYQ     |Accident & Health Insurance|431           |NULL|\n",
      "|TRUP  |Trupanion, Inc.                |NYQ     |Accident & Health Insurance|431           |NULL|\n",
      "|AFL   |AFLAC Inc.                     |NYQ     |Accident & Health Insurance|431           |NULL|\n",
      "|MIC.TO|Genworth MI Canada Inc.        |TOR     |Accident & Health Insurance|431           |NULL|\n",
      "|CNO   |CNO Financial Group, Inc.      |NYQ     |Accident & Health Insurance|431           |NULL|\n",
      "|UNM   |Unum Group                     |NYQ     |Accident & Health Insurance|431           |NULL|\n",
      "|FAC   |First Acceptance Corp.         |NYQ     |Accident & Health Insurance|431           |NULL|\n",
      "|SCRI  |Social Reality, Inc.           |PNK     |Advertising Agencies       |720           |NULL|\n",
      "|DCS.MU|JC DECAUX                      |MUN     |Advertising Agencies       |720           |NULL|\n",
      "|XM8.F |CLEAR MEDIA                    |FRA     |Advertising Agencies       |720           |NULL|\n",
      "+------+-------------------------------+--------+---------------------------+--------------+----+\n",
      "only showing top 20 rows\n",
      "\n"
     ]
    }
   ],
   "source": [
    "ds.show(truncate=False)"
   ]
  },
  {
   "cell_type": "code",
   "execution_count": 46,
   "id": "d8b1781a-53e8-4bab-aeb1-4b558502f36e",
   "metadata": {},
   "outputs": [],
   "source": [
    "# renames the columns of the DataFrame"
   ]
  },
  {
   "cell_type": "code",
   "execution_count": 47,
   "id": "8a7f65ec-2aaa-4291-a0ec-4eb21440c4a7",
   "metadata": {},
   "outputs": [],
   "source": [
    "heading = [\"Ticker\", \"Name\", \"Exchange\", \"CategoryName\", \"CategoryNumber\", \"_c5\"]"
   ]
  },
  {
   "cell_type": "code",
   "execution_count": 48,
   "id": "08412660-fe18-442e-a9b5-781eeb671534",
   "metadata": {},
   "outputs": [],
   "source": [
    "df = ds.toDF(*heading)"
   ]
  },
  {
   "cell_type": "code",
   "execution_count": 49,
   "id": "076bbf31-7606-47e7-8e3a-4c72db5d635a",
   "metadata": {},
   "outputs": [],
   "source": [
    "# show the updated DataFrame after renaming"
   ]
  },
  {
   "cell_type": "code",
   "execution_count": 50,
   "id": "d923dc6d-5160-4ce4-b183-d6ec6f85a740",
   "metadata": {},
   "outputs": [
    {
     "name": "stdout",
     "output_type": "stream",
     "text": [
      "+------+-------------------------------+--------+---------------------------+--------------+----+\n",
      "|Ticker|Name                           |Exchange|CategoryName               |CategoryNumber|_c5 |\n",
      "+------+-------------------------------+--------+---------------------------+--------------+----+\n",
      "|Ticker|Name                           |Exchange|CategoryName               |CategoryNumber|NULL|\n",
      "|AUB.AX|Austbrokers Holdings Limited   |ASX     |Accident & Health Insurance|431           |NULL|\n",
      "|GLRE  |Greenlight Capital Re, Ltd.    |NMS     |Accident & Health Insurance|431           |NULL|\n",
      "|SFG   |StanCorp Financial Group Inc.  |NYQ     |Accident & Health Insurance|431           |NULL|\n",
      "|AMIC  |American Independence Corp.    |NGM     |Accident & Health Insurance|431           |NULL|\n",
      "|GTS   |Triple-S Management Corporation|NYQ     |Accident & Health Insurance|431           |NULL|\n",
      "|LRE.L |Lancashire Holdings Limited    |LSE     |Accident & Health Insurance|431           |NULL|\n",
      "|EIG   |Employers Holdings, Inc.       |NYQ     |Accident & Health Insurance|431           |NULL|\n",
      "|AIZ   |Assurant Inc.                  |NYQ     |Accident & Health Insurance|431           |NULL|\n",
      "|NHF.AX|NIB Holdings Limited           |ASX     |Accident & Health Insurance|431           |NULL|\n",
      "|PRA   |ProAssurance Corporation       |NYQ     |Accident & Health Insurance|431           |NULL|\n",
      "|TRUP  |Trupanion, Inc.                |NYQ     |Accident & Health Insurance|431           |NULL|\n",
      "|AFL   |AFLAC Inc.                     |NYQ     |Accident & Health Insurance|431           |NULL|\n",
      "|MIC.TO|Genworth MI Canada Inc.        |TOR     |Accident & Health Insurance|431           |NULL|\n",
      "|CNO   |CNO Financial Group, Inc.      |NYQ     |Accident & Health Insurance|431           |NULL|\n",
      "|UNM   |Unum Group                     |NYQ     |Accident & Health Insurance|431           |NULL|\n",
      "|FAC   |First Acceptance Corp.         |NYQ     |Accident & Health Insurance|431           |NULL|\n",
      "|SCRI  |Social Reality, Inc.           |PNK     |Advertising Agencies       |720           |NULL|\n",
      "|DCS.MU|JC DECAUX                      |MUN     |Advertising Agencies       |720           |NULL|\n",
      "|XM8.F |CLEAR MEDIA                    |FRA     |Advertising Agencies       |720           |NULL|\n",
      "+------+-------------------------------+--------+---------------------------+--------------+----+\n",
      "only showing top 20 rows\n",
      "\n"
     ]
    }
   ],
   "source": [
    "df.show(truncate=False)"
   ]
  },
  {
   "cell_type": "code",
   "execution_count": 51,
   "id": "63be3635-cee4-427d-8549-ec469a531167",
   "metadata": {},
   "outputs": [],
   "source": [
    "# cast the CategoryNumber column to integer data type and disply with the first 3 rows"
   ]
  },
  {
   "cell_type": "code",
   "execution_count": 52,
   "id": "00d820ee-584e-4312-990f-05e131685f0c",
   "metadata": {},
   "outputs": [],
   "source": [
    "df_with_datatype = df.selectExpr(\"Ticker\", \\\n",
    "                    \"Name\", \\\n",
    "                    \"Exchange\", \\\n",
    "                    \"CategoryName\", \\\n",
    "                    \"cast(CategoryNumber as int) CategoryNumber\")"
   ]
  },
  {
   "cell_type": "code",
   "execution_count": 53,
   "id": "80782427-2c13-4f1b-922c-533d656b083b",
   "metadata": {},
   "outputs": [
    {
     "name": "stdout",
     "output_type": "stream",
     "text": [
      "+------+----------------------------+--------+---------------------------+--------------+\n",
      "|Ticker|Name                        |Exchange|CategoryName               |CategoryNumber|\n",
      "+------+----------------------------+--------+---------------------------+--------------+\n",
      "|Ticker|Name                        |Exchange|CategoryName               |NULL          |\n",
      "|AUB.AX|Austbrokers Holdings Limited|ASX     |Accident & Health Insurance|431           |\n",
      "|GLRE  |Greenlight Capital Re, Ltd. |NMS     |Accident & Health Insurance|431           |\n",
      "+------+----------------------------+--------+---------------------------+--------------+\n",
      "only showing top 3 rows\n",
      "\n"
     ]
    }
   ],
   "source": [
    "df_with_datatype.show(3, False)"
   ]
  },
  {
   "cell_type": "code",
   "execution_count": 54,
   "id": "c7d90a32-6f83-4d47-9fe6-ab193a56a7ec",
   "metadata": {},
   "outputs": [],
   "source": [
    "# save to parquet format(columnar) for analytics queries"
   ]
  },
  {
   "cell_type": "code",
   "execution_count": 55,
   "id": "7ded604d-1e93-4dc2-b548-ddf8e7ed740e",
   "metadata": {},
   "outputs": [
    {
     "name": "stderr",
     "output_type": "stream",
     "text": [
      "                                                                                \r"
     ]
    }
   ],
   "source": [
    "# Save the DataFrame to Parquet format, overwrite if existing.\n",
    "# Parquet is Columnar, good for Analytics query\n",
    "df_with_datatype.write.mode(\"Overwrite\").parquet(\"/notebooks/ticker_symbol.parquet\")"
   ]
  },
  {
   "cell_type": "code",
   "execution_count": 56,
   "id": "d50da2a0-2939-4bb6-bec6-8dd6241cfec1",
   "metadata": {},
   "outputs": [],
   "source": [
    "# Read and run SQL queries and show the first 3 rows, renames the columns and print the schema"
   ]
  },
  {
   "cell_type": "code",
   "execution_count": 57,
   "id": "cbc437bd-5ad3-48e6-b08f-685fdfc5dd83",
   "metadata": {},
   "outputs": [
    {
     "name": "stdout",
     "output_type": "stream",
     "text": [
      "+------+----------------------------+--------+---------------------------+--------------+\n",
      "|Ticker|Name                        |Exchange|CategoryName               |CategoryNumber|\n",
      "+------+----------------------------+--------+---------------------------+--------------+\n",
      "|Ticker|Name                        |Exchange|CategoryName               |NULL          |\n",
      "|AUB.AX|Austbrokers Holdings Limited|ASX     |Accident & Health Insurance|431           |\n",
      "|GLRE  |Greenlight Capital Re, Ltd. |NMS     |Accident & Health Insurance|431           |\n",
      "+------+----------------------------+--------+---------------------------+--------------+\n",
      "only showing top 3 rows\n",
      "\n"
     ]
    }
   ],
   "source": [
    "# Read the Parquet data back and run SQL query on it\n",
    "read_parquet_df = spark.read.parquet(\"/notebooks/ticker_symbol.parquet\")\n",
    "read_parquet_df.show(3, False)"
   ]
  },
  {
   "cell_type": "code",
   "execution_count": 60,
   "id": "9f4dbd38-a33e-4d30-ab43-e179b37efb15",
   "metadata": {},
   "outputs": [
    {
     "name": "stdout",
     "output_type": "stream",
     "text": [
      "root\n",
      " |-- Ticker: string (nullable = true)\n",
      " |-- Name: string (nullable = true)\n",
      " |-- Exchange: string (nullable = true)\n",
      " |-- CategoryName: string (nullable = true)\n",
      " |-- CategoryNumber: integer (nullable = true)\n",
      "\n"
     ]
    }
   ],
   "source": [
    "TickerSymbol = read_parquet_df.toDF(\"Ticker\", \"Name\", \"Exchange\", \"CategoryName\", \"CategoryNumber\")\n",
    "TickerSymbol.printSchema()"
   ]
  },
  {
   "cell_type": "code",
   "execution_count": 61,
   "id": "d8dca73d-e9fd-437a-81b7-821f01235755",
   "metadata": {},
   "outputs": [],
   "source": [
    "# create a temporary view, have SQL queries to filter specific ticker symbols"
   ]
  },
  {
   "cell_type": "code",
   "execution_count": 62,
   "id": "c22046f0-2867-447d-804f-e1f8b2daf89d",
   "metadata": {},
   "outputs": [
    {
     "name": "stdout",
     "output_type": "stream",
     "text": [
      "+------+-------------------------------------------+--------+-------------------------------+--------------+\n",
      "|Ticker|Name                                       |Exchange|CategoryName                   |CategoryNumber|\n",
      "+------+-------------------------------------------+--------+-------------------------------+--------------+\n",
      "|MSFT  |Microsoft Corporation                      |NMS     |Business Software & Services   |826           |\n",
      "|HPQ   |Hewlett-Packard Company                    |NYQ     |Diversified Computer Systems   |810           |\n",
      "|GE    |General Electric Company                   |NYQ     |Diversified Machinery          |622           |\n",
      "|IBM   |International Business Machines Corporation|NYQ     |Information Technology Services|824           |\n",
      "+------+-------------------------------------------+--------+-------------------------------+--------------+\n",
      "\n"
     ]
    }
   ],
   "source": [
    "TickerSymbol.createOrReplaceTempView(\"TickerSymbol\")\n",
    "spark.sql(\"SELECT * from TickerSymbol where Ticker in ('IBM', 'MSFT', 'HPQ', 'GE')\").show(20, False)"
   ]
  },
  {
   "cell_type": "code",
   "execution_count": null,
   "id": "40a38539-af33-4522-a4c0-c4f40b9570d1",
   "metadata": {},
   "outputs": [],
   "source": []
  }
 ],
 "metadata": {
  "kernelspec": {
   "display_name": "Python 3 (ipykernel)",
   "language": "python",
   "name": "python3"
  },
  "language_info": {
   "codemirror_mode": {
    "name": "ipython",
    "version": 3
   },
   "file_extension": ".py",
   "mimetype": "text/x-python",
   "name": "python",
   "nbconvert_exporter": "python",
   "pygments_lexer": "ipython3",
   "version": "3.9.18"
  }
 },
 "nbformat": 4,
 "nbformat_minor": 5
}
