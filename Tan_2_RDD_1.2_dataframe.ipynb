{
 "cells": [
  {
   "cell_type": "markdown",
   "id": "be71282d-2136-4612-8f2c-4048a0a8ef6e",
   "metadata": {},
   "source": [
    "## RDD 1.2 Create a Spark SQL Dataframe from Different Ways"
   ]
  },
  {
   "cell_type": "code",
   "execution_count": 2,
   "id": "ea779592-3a41-4491-b981-e870549ac753",
   "metadata": {},
   "outputs": [],
   "source": [
    "import findspark\n",
    "findspark.init()"
   ]
  },
  {
   "cell_type": "code",
   "execution_count": 3,
   "id": "051bec9e-fde5-40de-a7f0-fdf3e6cf7cd4",
   "metadata": {},
   "outputs": [
    {
     "name": "stderr",
     "output_type": "stream",
     "text": [
      "Setting default log level to \"WARN\".\n",
      "To adjust logging level use sc.setLogLevel(newLevel). For SparkR, use setLogLevel(newLevel).\n",
      "25/01/24 18:14:26 WARN NativeCodeLoader: Unable to load native-hadoop library for your platform... using builtin-java classes where applicable\n",
      "25/01/24 18:14:27 WARN Utils: Service 'SparkUI' could not bind on port 4040. Attempting port 4041.\n"
     ]
    }
   ],
   "source": [
    "# create entry points to spark\n",
    "try:\n",
    "    sc.stop()\n",
    "except:\n",
    "    pass\n",
    "from pyspark import SparkContext, SparkConf\n",
    "from pyspark.sql import SparkSession\n",
    "sc = SparkContext()\n",
    "spark = SparkSession(sparkContext=sc)"
   ]
  },
  {
   "cell_type": "code",
   "execution_count": 5,
   "id": "02f6edd5-9dc1-46b3-b055-e25f4dd42f4a",
   "metadata": {},
   "outputs": [
    {
     "name": "stdout",
     "output_type": "stream",
     "text": [
      "+-----------------+----+---+-----+---+----+-----+-----+---+---+----+----+\n",
      "|_c0              |mpg |cyl|disp |hp |drat|wt   |qsec |vs |am |gear|carb|\n",
      "+-----------------+----+---+-----+---+----+-----+-----+---+---+----+----+\n",
      "|Mazda RX4        |21.0|6  |160.0|110|3.9 |2.62 |16.46|0  |1  |4   |4   |\n",
      "|Mazda RX4 Wag    |21.0|6  |160.0|110|3.9 |2.875|17.02|0  |1  |4   |4   |\n",
      "|Datsun 710       |22.8|4  |108.0|93 |3.85|2.32 |18.61|1  |1  |4   |1   |\n",
      "|Hornet 4 Drive   |21.4|6  |258.0|110|3.08|3.215|19.44|1  |0  |3   |1   |\n",
      "|Hornet Sportabout|18.7|8  |360.0|175|3.15|3.44 |17.02|0  |0  |3   |2   |\n",
      "+-----------------+----+---+-----+---+----+-----+-----+---+---+----+----+\n",
      "only showing top 5 rows\n",
      "\n"
     ]
    },
    {
     "name": "stderr",
     "output_type": "stream",
     "text": [
      "25/01/24 18:17:34 WARN CSVHeaderChecker: CSV header does not conform to the schema.\n",
      " Header: , mpg, cyl, disp, hp, drat, wt, qsec, vs, am, gear, carb\n",
      " Schema: _c0, mpg, cyl, disp, hp, drat, wt, qsec, vs, am, gear, carb\n",
      "Expected: _c0 but found: \n",
      "CSV file: file:///notebooks/data/SparkData/mtcars.csv\n"
     ]
    }
   ],
   "source": [
    "mtcars = spark.read.csv(path='/notebooks/data/SparkData/mtcars.csv',\n",
    "                        sep=',',\n",
    "                        encoding='UTF-8',\n",
    "                        comment=None,\n",
    "                        header=True,\n",
    "                        inferSchema=True)\n",
    "mtcars.show(n=5, truncate=False)\n",
    "                        "
   ]
  },
  {
   "cell_type": "code",
   "execution_count": 6,
   "id": "2e79d28d-6ad5-486e-b786-d281347b5753",
   "metadata": {},
   "outputs": [
    {
     "data": {
      "text/plain": [
       "[Row(x=[1, 2, 3], y=['a', 'b', 'c']), Row(x=[4, 5, 6], y=['e', 'f', 'g'])]"
      ]
     },
     "execution_count": 6,
     "metadata": {},
     "output_type": "execute_result"
    }
   ],
   "source": [
    "# Create DataFrame from rdd with createDataFrame function\n",
    "from pyspark.sql import Row\n",
    "rdd = sc.parallelize([\n",
    "    Row(x=[1,2,3], y=['a','b','c']),\n",
    "    Row(x=[4,5,6], y=['e','f','g'])\n",
    "])\n",
    "rdd.collect()"
   ]
  },
  {
   "cell_type": "code",
   "execution_count": 8,
   "id": "9ce8fce4-787d-4091-b478-249417eca3cd",
   "metadata": {},
   "outputs": [
    {
     "name": "stderr",
     "output_type": "stream",
     "text": [
      "                                                                                \r"
     ]
    },
    {
     "name": "stdout",
     "output_type": "stream",
     "text": [
      "+---------+---------+\n",
      "|        x|        y|\n",
      "+---------+---------+\n",
      "|[1, 2, 3]|[a, b, c]|\n",
      "|[4, 5, 6]|[e, f, g]|\n",
      "+---------+---------+\n",
      "\n"
     ]
    }
   ],
   "source": [
    "df = spark.createDataFrame(rdd)\n",
    "df.show()"
   ]
  },
  {
   "cell_type": "code",
   "execution_count": 9,
   "id": "0e796c1e-b26c-46fa-ad02-b53ae58002cf",
   "metadata": {},
   "outputs": [
    {
     "data": {
      "text/html": [
       "<div>\n",
       "<style scoped>\n",
       "    .dataframe tbody tr th:only-of-type {\n",
       "        vertical-align: middle;\n",
       "    }\n",
       "\n",
       "    .dataframe tbody tr th {\n",
       "        vertical-align: top;\n",
       "    }\n",
       "\n",
       "    .dataframe thead th {\n",
       "        text-align: right;\n",
       "    }\n",
       "</style>\n",
       "<table border=\"1\" class=\"dataframe\">\n",
       "  <thead>\n",
       "    <tr style=\"text-align: right;\">\n",
       "      <th></th>\n",
       "      <th>x</th>\n",
       "      <th>y</th>\n",
       "    </tr>\n",
       "  </thead>\n",
       "  <tbody>\n",
       "    <tr>\n",
       "      <th>0</th>\n",
       "      <td>[1, 2, 3]</td>\n",
       "      <td>[a, b, c]</td>\n",
       "    </tr>\n",
       "    <tr>\n",
       "      <th>1</th>\n",
       "      <td>[4, 5, 6]</td>\n",
       "      <td>[e, f, g]</td>\n",
       "    </tr>\n",
       "  </tbody>\n",
       "</table>\n",
       "</div>"
      ],
      "text/plain": [
       "           x          y\n",
       "0  [1, 2, 3]  [a, b, c]\n",
       "1  [4, 5, 6]  [e, f, g]"
      ]
     },
     "execution_count": 9,
     "metadata": {},
     "output_type": "execute_result"
    }
   ],
   "source": [
    "# from pandas dataframe\n",
    "import pandas as pd\n",
    "pdf = pd.DataFrame({\n",
    "    'x': [[1,2,3], [4,5,6]],\n",
    "    'y': [['a','b','c'], ['e','f','g']]\n",
    "})\n",
    "pdf"
   ]
  },
  {
   "cell_type": "code",
   "execution_count": 10,
   "id": "c0dddd0e-2568-45c0-888e-81ff70a8bcf9",
   "metadata": {},
   "outputs": [
    {
     "name": "stdout",
     "output_type": "stream",
     "text": [
      "+---------+---------+\n",
      "|        x|        y|\n",
      "+---------+---------+\n",
      "|[1, 2, 3]|[a, b, c]|\n",
      "|[4, 5, 6]|[e, f, g]|\n",
      "+---------+---------+\n",
      "\n"
     ]
    }
   ],
   "source": [
    "# Create spark dataframe from pandas dataframe\n",
    "df = spark.createDataFrame(pdf)\n",
    "df.show()"
   ]
  },
  {
   "cell_type": "code",
   "execution_count": 12,
   "id": "b947ef6d-0a6b-4f91-8361-dbad9377bd9d",
   "metadata": {},
   "outputs": [
    {
     "data": {
      "text/plain": [
       "[('x', 'array<bigint>'), ('y', 'array<string>')]"
      ]
     },
     "execution_count": 12,
     "metadata": {},
     "output_type": "execute_result"
    }
   ],
   "source": [
    "df.dtypes"
   ]
  },
  {
   "cell_type": "code",
   "execution_count": 13,
   "id": "7edf4876-299e-4282-9693-85bf88a973cb",
   "metadata": {},
   "outputs": [
    {
     "name": "stdout",
     "output_type": "stream",
     "text": [
      "+---------+----------+\n",
      "|my_colum1|my_column2|\n",
      "+---------+----------+\n",
      "|        a|         1|\n",
      "|        b|         2|\n",
      "+---------+----------+\n",
      "\n"
     ]
    }
   ],
   "source": [
    "my_list = [['a', 1], ['b', 2]]\n",
    "df = spark.createDataFrame(my_list, ['my_colum1', 'my_column2'])\n",
    "df.show()"
   ]
  },
  {
   "cell_type": "code",
   "execution_count": 14,
   "id": "6d079ac3-9ca6-447a-96fa-ecaf98923a4b",
   "metadata": {},
   "outputs": [
    {
     "data": {
      "text/plain": [
       "[('my_colum1', 'string'), ('my_column2', 'bigint')]"
      ]
     },
     "execution_count": 14,
     "metadata": {},
     "output_type": "execute_result"
    }
   ],
   "source": [
    "df.dtypes"
   ]
  },
  {
   "cell_type": "code",
   "execution_count": 15,
   "id": "1341fddc-0fa4-4267-b5e1-6ad43b9e48fe",
   "metadata": {},
   "outputs": [
    {
     "name": "stdout",
     "output_type": "stream",
     "text": [
      "+------+------+\n",
      "|     x|     y|\n",
      "+------+------+\n",
      "|[a, 1]|[b, 2]|\n",
      "+------+------+\n",
      "\n"
     ]
    }
   ],
   "source": [
    "my_list = [(['a', 1], ['b', 2])]\n",
    "df = spark.createDataFrame(my_list, ['x', 'y'])\n",
    "df.show()"
   ]
  },
  {
   "cell_type": "code",
   "execution_count": 16,
   "id": "1e2409a7-8094-4591-8e5c-e940d6e94ab4",
   "metadata": {},
   "outputs": [
    {
     "name": "stdout",
     "output_type": "stream",
     "text": [
      "+------+\n",
      "|     x|\n",
      "+------+\n",
      "|[a, 1]|\n",
      "+------+\n",
      "\n"
     ]
    }
   ],
   "source": [
    "df.select('x').show()"
   ]
  },
  {
   "cell_type": "code",
   "execution_count": null,
   "id": "c3538a53-c9ab-4835-ab70-e91c469d2901",
   "metadata": {},
   "outputs": [],
   "source": []
  }
 ],
 "metadata": {
  "kernelspec": {
   "display_name": "Python 3 (ipykernel)",
   "language": "python",
   "name": "python3"
  },
  "language_info": {
   "codemirror_mode": {
    "name": "ipython",
    "version": 3
   },
   "file_extension": ".py",
   "mimetype": "text/x-python",
   "name": "python",
   "nbconvert_exporter": "python",
   "pygments_lexer": "ipython3",
   "version": "3.9.18"
  }
 },
 "nbformat": 4,
 "nbformat_minor": 5
}
