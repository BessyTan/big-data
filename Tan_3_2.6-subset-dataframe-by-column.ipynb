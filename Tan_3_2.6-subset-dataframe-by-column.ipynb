{
 "cells": [
  {
   "cell_type": "code",
   "execution_count": 1,
   "id": "96ecf1ea-0bcd-4a71-a0b7-3db100544566",
   "metadata": {},
   "outputs": [
    {
     "name": "stderr",
     "output_type": "stream",
     "text": [
      "Setting default log level to \"WARN\".\n",
      "To adjust logging level use sc.setLogLevel(newLevel). For SparkR, use setLogLevel(newLevel).\n",
      "25/02/07 19:04:06 WARN NativeCodeLoader: Unable to load native-hadoop library for your platform... using builtin-java classes where applicable\n",
      "25/02/07 19:04:07 WARN Utils: Service 'SparkUI' could not bind on port 4040. Attempting port 4041.\n"
     ]
    }
   ],
   "source": [
    "import findspark\n",
    "findspark.init()\n",
    "# Create entry points to spark\n",
    "try:\n",
    "    sc.stop()\n",
    "except:\n",
    "    pass\n",
    "from pyspark import SparkContext, SparkConf\n",
    "from pyspark.sql import SparkSession\n",
    "sc = SparkContext()\n",
    "spark = SparkSession(sparkContext=sc)"
   ]
  },
  {
   "cell_type": "markdown",
   "id": "a6f467da-6f09-4708-bdf7-99e147739521",
   "metadata": {},
   "source": [
    "## Example data"
   ]
  },
  {
   "cell_type": "code",
   "execution_count": 4,
   "id": "a30fb9cb-b864-42c3-8c03-39318c9c2621",
   "metadata": {},
   "outputs": [
    {
     "name": "stdout",
     "output_type": "stream",
     "text": [
      "+-----------------+----+---+-----+---+----+-----+-----+---+---+----+----+\n",
      "|            model| mpg|cyl| disp| hp|drat|   wt| qsec| vs| am|gear|carb|\n",
      "+-----------------+----+---+-----+---+----+-----+-----+---+---+----+----+\n",
      "|        Mazda RX4|21.0|  6|160.0|110| 3.9| 2.62|16.46|  0|  1|   4|   4|\n",
      "|    Mazda RX4 Wag|21.0|  6|160.0|110| 3.9|2.875|17.02|  0|  1|   4|   4|\n",
      "|       Datsun 710|22.8|  4|108.0| 93|3.85| 2.32|18.61|  1|  1|   4|   1|\n",
      "|   Hornet 4 Drive|21.4|  6|258.0|110|3.08|3.215|19.44|  1|  0|   3|   1|\n",
      "|Hornet Sportabout|18.7|  8|360.0|175|3.15| 3.44|17.02|  0|  0|   3|   2|\n",
      "+-----------------+----+---+-----+---+----+-----+-----+---+---+----+----+\n",
      "only showing top 5 rows\n",
      "\n"
     ]
    }
   ],
   "source": [
    "mtcars = spark.read.csv('data/SparkData/mtcars.csv', inferSchema=True, header=True)\n",
    "# correct first column name\n",
    "mtcars = mtcars.withColumnRenamed('_c0', 'model')\n",
    "mtcars.show(5)"
   ]
  },
  {
   "cell_type": "markdown",
   "id": "c10c78da-c706-449d-bba9-aced20df5fb9",
   "metadata": {},
   "source": [
    "## Select columns by name\n",
    "We can simple use the select() function to select columns by name"
   ]
  },
  {
   "cell_type": "code",
   "execution_count": 5,
   "id": "b825f51f-adaa-43f9-8377-ab4784b4ea88",
   "metadata": {},
   "outputs": [
    {
     "name": "stdout",
     "output_type": "stream",
     "text": [
      "+---+-----+\n",
      "| hp| disp|\n",
      "+---+-----+\n",
      "|110|160.0|\n",
      "|110|160.0|\n",
      "| 93|108.0|\n",
      "|110|258.0|\n",
      "|175|360.0|\n",
      "+---+-----+\n",
      "only showing top 5 rows\n",
      "\n"
     ]
    }
   ],
   "source": [
    "# Select columns of 'hp' and 'disp'\n",
    "mtcars.select(['hp', 'disp']).show(5)"
   ]
  },
  {
   "cell_type": "markdown",
   "id": "68b79e02-7b64-4246-97f7-fce76ad711de",
   "metadata": {},
   "source": [
    "## Select columns by index\n",
    "We can convert indices to corresponding column names and the select columns by name"
   ]
  },
  {
   "cell_type": "code",
   "execution_count": 6,
   "id": "adb44153-b09c-4f35-85d7-b9d07926421a",
   "metadata": {},
   "outputs": [
    {
     "data": {
      "text/plain": [
       "['model', 'disp', 'hp', 'qsec']"
      ]
     },
     "execution_count": 6,
     "metadata": {},
     "output_type": "execute_result"
    }
   ],
   "source": [
    "# Select columns with index 0,3,4,7\n",
    "indices = [0,3,4,7]\n",
    "selected_columns = [mtcars.columns[index] for index in indices]\n",
    "selected_columns"
   ]
  },
  {
   "cell_type": "code",
   "execution_count": 7,
   "id": "68c0d0f8-e00a-4d15-bdc8-27232a4fc5f1",
   "metadata": {},
   "outputs": [
    {
     "name": "stdout",
     "output_type": "stream",
     "text": [
      "+-----------------+-----+---+-----+\n",
      "|            model| disp| hp| qsec|\n",
      "+-----------------+-----+---+-----+\n",
      "|        Mazda RX4|160.0|110|16.46|\n",
      "|    Mazda RX4 Wag|160.0|110|17.02|\n",
      "|       Datsun 710|108.0| 93|18.61|\n",
      "|   Hornet 4 Drive|258.0|110|19.44|\n",
      "|Hornet Sportabout|360.0|175|17.02|\n",
      "+-----------------+-----+---+-----+\n",
      "only showing top 5 rows\n",
      "\n"
     ]
    }
   ],
   "source": [
    "mtcars.select(selected_columns).show(5)"
   ]
  },
  {
   "cell_type": "markdown",
   "id": "ca24b5dc-e38d-4400-8540-91dcd897f942",
   "metadata": {},
   "source": [
    "## Select columns by pattern\n",
    "Example: columns start with 'd'"
   ]
  },
  {
   "cell_type": "code",
   "execution_count": 10,
   "id": "2d9178a9-7149-460e-b9ac-97f18f3a380c",
   "metadata": {},
   "outputs": [
    {
     "data": {
      "text/plain": [
       "['disp', 'drat']"
      ]
     },
     "execution_count": 10,
     "metadata": {},
     "output_type": "execute_result"
    }
   ],
   "source": [
    "# Select columns whose name start with 'd'\n",
    "import re\n",
    "selected_columns = [x for x in mtcars.columns if re.compile('^d').match(x) is not None]\n",
    "selected_columns"
   ]
  },
  {
   "cell_type": "code",
   "execution_count": 11,
   "id": "1c719b07-68dd-4b4e-b7d7-32dd27f1cd69",
   "metadata": {},
   "outputs": [
    {
     "name": "stdout",
     "output_type": "stream",
     "text": [
      "+-----+----+\n",
      "| disp|drat|\n",
      "+-----+----+\n",
      "|160.0| 3.9|\n",
      "|160.0| 3.9|\n",
      "|108.0|3.85|\n",
      "|258.0|3.08|\n",
      "|360.0|3.15|\n",
      "+-----+----+\n",
      "only showing top 5 rows\n",
      "\n"
     ]
    }
   ],
   "source": [
    "mtcars.select(selected_columns).show(5)"
   ]
  },
  {
   "cell_type": "code",
   "execution_count": null,
   "id": "8c3e3818-4d9c-4a86-9311-8b135e91f721",
   "metadata": {},
   "outputs": [],
   "source": []
  }
 ],
 "metadata": {
  "kernelspec": {
   "display_name": "Python 3 (ipykernel)",
   "language": "python",
   "name": "python3"
  },
  "language_info": {
   "codemirror_mode": {
    "name": "ipython",
    "version": 3
   },
   "file_extension": ".py",
   "mimetype": "text/x-python",
   "name": "python",
   "nbconvert_exporter": "python",
   "pygments_lexer": "ipython3",
   "version": "3.9.18"
  }
 },
 "nbformat": 4,
 "nbformat_minor": 5
}
