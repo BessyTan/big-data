{
 "cells": [
  {
   "cell_type": "code",
   "execution_count": 1,
   "id": "13ad3903-eddd-432d-ab7d-47e56b0af466",
   "metadata": {},
   "outputs": [
    {
     "data": {
      "text/plain": [
       "'\\nThis is a socket server program that generates non stop random CSV lines and act as a streaming testing source with Spark streaming\\nChoose a port that is free, preferably one greater than 20000\\n'"
      ]
     },
     "execution_count": 1,
     "metadata": {},
     "output_type": "execute_result"
    }
   ],
   "source": [
    "'''\n",
    "This is a socket server program that generates non stop random CSV lines \\\n",
    "and act as a streaming testing source with Spark streaming\n",
    "Choose a port that is free, preferably one greater than 20000\n",
    "'''"
   ]
  },
  {
   "cell_type": "code",
   "execution_count": 2,
   "id": "a2cce635-ea6a-4988-810e-e6dad25cbb88",
   "metadata": {},
   "outputs": [],
   "source": [
    "import socket      # import the socket module to enable networking features\n",
    "import sys         # for interacting with python runtime environment like command-line argument\n",
    "import time        # for time like delays(sleep) or timestamps\n",
    "import datetime    # for dates and time like generating current timestamps\n",
    "import random      # for generating random values\n",
    "import argparse    # for parsing command-line arguments"
   ]
  },
  {
   "cell_type": "code",
   "execution_count": 3,
   "id": "f559ee9a-d084-47b1-b8f5-8c7c934f2d69",
   "metadata": {},
   "outputs": [],
   "source": [
    "# Randomly select 20 words from the word list, join into a single string separated by space\n",
    "def get_message():\n",
    "    popular_word_list = ['a','about','all','also','and','as','at','be','becaus e','but','by',\\\n",
    "                   'can','come','could','day','do','even','find','first','for','fr om',\\\n",
    "                   'get','give','go','have','he','her','here','him','his','how','I','if',\\\n",
    "                   'in ','into','it','its','just','know','like','look','make','man','many','me',\\\n",
    "                   'mor e','my','new','no','not','now','of','on','one','only','or','other','our',\\\n",
    "                   'out ','people','say','see','she','so','some','take','tell','than','that','the',\\\n",
    "                   't heir','them','then','there','these','they','thing','think','this','those',\\\n",
    "                   'ti me','to','two','up','use','very','want','way','we','well','what','when','whic h',\\\n",
    "                   'who','will','with','would','year','you','your']\n",
    "    return \" \".join(random.choices(popular_word_list, k=20)) + \"\\n\""
   ]
  },
  {
   "cell_type": "code",
   "execution_count": 4,
   "id": "c6b5656a-60e1-4a38-9350-3925f33d659c",
   "metadata": {},
   "outputs": [
    {
     "name": "stdout",
     "output_type": "stream",
     "text": [
      "21001\n",
      "Socket created\n"
     ]
    },
    {
     "ename": "TypeError",
     "evalue": "'OSError' object is not subscriptable",
     "output_type": "error",
     "traceback": [
      "\u001b[0;31m---------------------------------------------------------------------------\u001b[0m",
      "\u001b[0;31mOSError\u001b[0m                                   Traceback (most recent call last)",
      "Cell \u001b[0;32mIn[4], line 20\u001b[0m\n\u001b[1;32m     19\u001b[0m \u001b[38;5;28;01mtry\u001b[39;00m:\n\u001b[0;32m---> 20\u001b[0m     \u001b[43msock\u001b[49m\u001b[38;5;241;43m.\u001b[39;49m\u001b[43mbind\u001b[49m\u001b[43m(\u001b[49m\u001b[43m(\u001b[49m\u001b[43mHOST\u001b[49m\u001b[43m,\u001b[49m\u001b[43m \u001b[49m\u001b[43mPORT\u001b[49m\u001b[43m)\u001b[49m\u001b[43m)\u001b[49m  \u001b[38;5;66;03m# bind the socket to the host and port\u001b[39;00m\n\u001b[1;32m     21\u001b[0m     \u001b[38;5;28mprint\u001b[39m(\u001b[38;5;124m'\u001b[39m\u001b[38;5;124mSocket bind complete\u001b[39m\u001b[38;5;124m'\u001b[39m)\n",
      "\u001b[0;31mOSError\u001b[0m: [Errno 98] Address already in use",
      "\nDuring handling of the above exception, another exception occurred:\n",
      "\u001b[0;31mTypeError\u001b[0m                                 Traceback (most recent call last)",
      "Cell \u001b[0;32mIn[4], line 23\u001b[0m\n\u001b[1;32m     21\u001b[0m     \u001b[38;5;28mprint\u001b[39m(\u001b[38;5;124m'\u001b[39m\u001b[38;5;124mSocket bind complete\u001b[39m\u001b[38;5;124m'\u001b[39m)\n\u001b[1;32m     22\u001b[0m \u001b[38;5;28;01mexcept\u001b[39;00m socket\u001b[38;5;241m.\u001b[39merror \u001b[38;5;28;01mas\u001b[39;00m msg:\n\u001b[0;32m---> 23\u001b[0m     \u001b[38;5;28mprint\u001b[39m(\u001b[38;5;124m'\u001b[39m\u001b[38;5;124mBind failed. Error Code: \u001b[39m\u001b[38;5;124m'\u001b[39m \u001b[38;5;241m+\u001b[39m \u001b[38;5;28mstr\u001b[39m(\u001b[43mmsg\u001b[49m\u001b[43m[\u001b[49m\u001b[38;5;241;43m0\u001b[39;49m\u001b[43m]\u001b[49m) \u001b[38;5;241m+\u001b[39m \u001b[38;5;124m'\u001b[39m\u001b[38;5;124mMessage\u001b[39m\u001b[38;5;124m'\u001b[39m \u001b[38;5;241m+\u001b[39m msg[\u001b[38;5;241m1\u001b[39m])\n\u001b[1;32m     24\u001b[0m     sys\u001b[38;5;241m.\u001b[39mexit()\n\u001b[1;32m     26\u001b[0m \u001b[38;5;66;03m# Set the socket to listion for incoming client connections\u001b[39;00m\n",
      "\u001b[0;31mTypeError\u001b[0m: 'OSError' object is not subscriptable"
     ]
    }
   ],
   "source": [
    "# run the socket server\n",
    "if __name__ == \"__main__\":\n",
    "# parse = argparse.ArgumentParser(description=\"Streaming generation socket server\")\n",
    "# parser.add_argument(\"port\", type=int, help=\"port\")\n",
    "# args = parser.parse_args()\n",
    "# port = args.port\n",
    "    port = 21001    # set default port like between 20000 to 30000\n",
    "    print(port)     # the port the server is listening on\n",
    "    HOST = \"\"       # HOST empty string to listen on all available network interfaces\n",
    "    PORT = port     # use the port (default: 21001)\n",
    "    # A socket is an endpoint for communication between two machines over a network. \n",
    "    # It allows data to be sent and received\n",
    "    # Use IPv4 addressing(AF_INET)\n",
    "    # Used for TCP communication(SOCK_STREAM) that data is reliably sent and received\n",
    "    sock = socket.socket(socket.AF_INET, socket.SOCK_STREAM)\n",
    "    print('Socket created')\n",
    "\n",
    "# Bind socket to local host and port\n",
    "    try:\n",
    "        sock.bind((HOST, PORT))  # bind the socket to the host and port      \n",
    "    except socket.error as msg:\n",
    "        print('Bind failed. Error Code: ' + str(msg[0]) + 'Message' + msg[1])\n",
    "        sys.exit()\n",
    "        \n",
    "    print('Socket bind complete')\n",
    "    \n",
    "    # Set the socket to listion for incoming client connections\n",
    "    sock.listen(1)\n",
    "    print('Listening on {}'.format(PORT))\n",
    "\n",
    "    # now keep sending data to the client\n",
    "    while True:\n",
    "        # wait to accept a connection - blocking all\n",
    "        try:\n",
    "            conn, addr = sock.accept()      # accept incoming connections\n",
    "            print('Connect with ' + addr[0] + ':' + str(addr[1]))  # Display client IP and port\n",
    "        except KeyboardInterrupt:\n",
    "            print(\"bye\")\n",
    "            sock.close()                    # close socket on interrupt\n",
    "            sys.exit()\n",
    "        except:\n",
    "            print(\"Error when accept connect\")\n",
    "            sock.close()\n",
    "            sys.exit()                      # close socket on error\n",
    "        while True:\n",
    "            try:\n",
    "                # send randomly generated message to the client every 1 second\n",
    "                conn.send(get_message().encode()) \n",
    "                time.sleep(1)\n",
    "            except KeyboardInterrupt:\n",
    "                print(\"bye\")\n",
    "                sock.close()\n",
    "                sys.exit()\n",
    "            except:\n",
    "                print(\"Client disconnect\")\n",
    "                conn.close()\n",
    "                break \n",
    "    sock.close()                             # close socket when exiting\n",
    "    print(\"Server closed\")"
   ]
  },
  {
   "cell_type": "code",
   "execution_count": null,
   "id": "d54d5dbb-09e2-4b73-850b-bae602bd5fcb",
   "metadata": {},
   "outputs": [],
   "source": []
  },
  {
   "cell_type": "code",
   "execution_count": null,
   "id": "1567667b-ad30-4205-9918-b85222757895",
   "metadata": {},
   "outputs": [],
   "source": []
  }
 ],
 "metadata": {
  "kernelspec": {
   "display_name": "Python 3 (ipykernel)",
   "language": "python",
   "name": "python3"
  },
  "language_info": {
   "codemirror_mode": {
    "name": "ipython",
    "version": 3
   },
   "file_extension": ".py",
   "mimetype": "text/x-python",
   "name": "python",
   "nbconvert_exporter": "python",
   "pygments_lexer": "ipython3",
   "version": "3.9.18"
  }
 },
 "nbformat": 4,
 "nbformat_minor": 5
}
