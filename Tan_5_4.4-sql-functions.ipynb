{
 "cells": [
  {
   "cell_type": "markdown",
   "id": "52e86cdd-2c75-4858-a51d-c458c29e303c",
   "metadata": {},
   "source": [
    "# SQL functions\n",
    "---"
   ]
  },
  {
   "cell_type": "markdown",
   "id": "61f2220a-65b1-48e2-82a9-dfc4fae546d1",
   "metadata": {},
   "source": [
    "# SparkContext and SparkSession"
   ]
  },
  {
   "cell_type": "code",
   "execution_count": 1,
   "id": "9bcdb9f3-e5d1-443e-8b99-db36cebba347",
   "metadata": {},
   "outputs": [
    {
     "name": "stderr",
     "output_type": "stream",
     "text": [
      "Setting default log level to \"WARN\".\n",
      "To adjust logging level use sc.setLogLevel(newLevel). For SparkR, use setLogLevel(newLevel).\n",
      "25/02/28 02:16:44 WARN NativeCodeLoader: Unable to load native-hadoop library for your platform... using builtin-java classes where applicable\n"
     ]
    }
   ],
   "source": [
    "import findspark\n",
    "findspark.init()\n",
    "from pyspark import SparkContext\n",
    "sc = SparkContext(master = 'local')\n",
    "\n",
    "from pyspark.sql import SparkSession\n",
    "spark = SparkSession.builder \\\n",
    "            .appName(\"Python Spark SQL basic example\") \\\n",
    "            .config(\"spark.some.config.option\", \"some-value\") \\\n",
    "            .getOrCreate()"
   ]
  },
  {
   "cell_type": "markdown",
   "id": "49b9ae5a-6cbf-4241-b225-fa225ea98fc8",
   "metadata": {},
   "source": [
    "# Import data"
   ]
  },
  {
   "cell_type": "code",
   "execution_count": 2,
   "id": "9fd11de5-1ede-4583-9445-93b80a08e562",
   "metadata": {},
   "outputs": [
    {
     "name": "stderr",
     "output_type": "stream",
     "text": [
      "                                                                                \r"
     ]
    },
    {
     "name": "stdout",
     "output_type": "stream",
     "text": [
      "+------------+-----------+------------+-----------+-------+\n",
      "|sepal_length|sepal_width|petal_length|petal_width|species|\n",
      "+------------+-----------+------------+-----------+-------+\n",
      "|         5.1|        3.5|         1.4|        0.2| setosa|\n",
      "|         4.9|        3.0|         1.4|        0.2| setosa|\n",
      "|         4.7|        3.2|         1.3|        0.2| setosa|\n",
      "|         4.6|        3.1|         1.5|        0.2| setosa|\n",
      "|         5.0|        3.6|         1.4|        0.2| setosa|\n",
      "+------------+-----------+------------+-----------+-------+\n",
      "only showing top 5 rows\n",
      "\n"
     ]
    }
   ],
   "source": [
    "iris = spark.read.csv('data/iris.csv', header=True, inferSchema=True)\n",
    "iris.show(5)"
   ]
  },
  {
   "cell_type": "code",
   "execution_count": 3,
   "id": "27534a10-8bc3-472d-bbd2-70ec72e4fd04",
   "metadata": {},
   "outputs": [
    {
     "name": "stdout",
     "output_type": "stream",
     "text": [
      "+------------+-----------+---+------------+---+------------+-------+-----+------------+\n",
      "|      lcavol|    lweight|age|        lbph|svi|         lcp|gleason|pgg45|        lpsa|\n",
      "+------------+-----------+---+------------+---+------------+-------+-----+------------+\n",
      "|-0.579818495|2.769458829| 50|-1.386294361|  0|-1.386294361|      6|    0|-0.430782916|\n",
      "|-0.994252273|3.319625728| 58|-1.386294361|  0|-1.386294361|      6|    0|-0.162518929|\n",
      "|-0.510825624|2.691243083| 74|-1.386294361|  0|-1.386294361|      7|   20|-0.162518929|\n",
      "|-1.203972804|3.282789151| 58|-1.386294361|  0|-1.386294361|      6|    0|-0.162518929|\n",
      "| 0.751416089|3.432372999| 62|-1.386294361|  0|-1.386294361|      6|    0| 0.371563556|\n",
      "+------------+-----------+---+------------+---+------------+-------+-----+------------+\n",
      "only showing top 5 rows\n",
      "\n"
     ]
    }
   ],
   "source": [
    "prostate = spark.read.csv('data/prostate.csv', header=True, inferSchema=True)\n",
    "prostate.show(5)"
   ]
  },
  {
   "cell_type": "markdown",
   "id": "8697baff-e921-4bb0-b86f-17f7b81561a8",
   "metadata": {},
   "source": [
    "# Functions"
   ]
  },
  {
   "cell_type": "code",
   "execution_count": 4,
   "id": "a33d3c7d-7a73-4f59-90e5-17498aacc110",
   "metadata": {},
   "outputs": [],
   "source": [
    "from pyspark.sql.functions import *\n",
    "from pyspark.sql.types import *\n",
    "import numpy as np\n",
    "import pandas as pd"
   ]
  },
  {
   "cell_type": "markdown",
   "id": "30db54d1-08cf-4ace-a404-92f5e81bd0bf",
   "metadata": {},
   "source": [
    "## abs"
   ]
  },
  {
   "cell_type": "code",
   "execution_count": 5,
   "id": "f4ced39f-e9fb-4044-8174-4f9c4e7549ca",
   "metadata": {},
   "outputs": [
    {
     "name": "stdout",
     "output_type": "stream",
     "text": [
      "+------------+-----------+\n",
      "|        lpsa|  abs(lpsa)|\n",
      "+------------+-----------+\n",
      "|-0.430782916|0.430782916|\n",
      "|-0.162518929|0.162518929|\n",
      "|-0.162518929|0.162518929|\n",
      "|-0.162518929|0.162518929|\n",
      "| 0.371563556|0.371563556|\n",
      "+------------+-----------+\n",
      "only showing top 5 rows\n",
      "\n"
     ]
    }
   ],
   "source": [
    "prostate.select('lpsa', abs(prostate.lpsa).alias('abs(lpsa)')).show(5)"
   ]
  },
  {
   "cell_type": "markdown",
   "id": "3b1b608e-ebc2-42ec-abae-b163c3f7e9cd",
   "metadata": {},
   "source": [
    "## acos\n",
    "arccosine"
   ]
  },
  {
   "cell_type": "code",
   "execution_count": 12,
   "id": "ef7c6cc6-6ca8-44f8-9ed2-ab1d585d06b7",
   "metadata": {},
   "outputs": [
    {
     "name": "stdout",
     "output_type": "stream",
     "text": [
      "+--------------------+\n",
      "|                   x|\n",
      "+--------------------+\n",
      "|-0.41093841088017535|\n",
      "|  -0.779655582698541|\n",
      "| -0.9536119404173016|\n",
      "|-0.36862819054292817|\n",
      "| -0.9941258873864552|\n",
      "+--------------------+\n",
      "only showing top 5 rows\n",
      "\n"
     ]
    }
   ],
   "source": [
    "# generate 5 random negative values and 5 random positive values and combining into a list, create DataFrame\n",
    "pdf = pd.DataFrame({\n",
    "    'x': list(-np.random.rand(5)) + list(np.random.rand(5))\n",
    "})\n",
    "df = spark.createDataFrame(pdf)\n",
    "df.show(5)"
   ]
  },
  {
   "cell_type": "code",
   "execution_count": 13,
   "id": "8ec3b706-6cbb-4a69-9dc0-d35bb8e2e2fd",
   "metadata": {},
   "outputs": [
    {
     "name": "stdout",
     "output_type": "stream",
     "text": [
      "+--------------------+------------------+\n",
      "|                   x|           ACOS(x)|\n",
      "+--------------------+------------------+\n",
      "|-0.41093841088017535|1.9942794900121013|\n",
      "|  -0.779655582698541| 2.464911951423669|\n",
      "| -0.9536119404173016| 2.835811014801651|\n",
      "|-0.36862819054292817| 1.948329179619281|\n",
      "| -0.9941258873864552|  3.03315029557948|\n",
      "+--------------------+------------------+\n",
      "only showing top 5 rows\n",
      "\n"
     ]
    }
   ],
   "source": [
    "df.select('x', acos(df.x)).show(5)"
   ]
  },
  {
   "cell_type": "markdown",
   "id": "9d78a064-3ffa-4b36-993a-00fbb672ebef",
   "metadata": {},
   "source": [
    "## add_months"
   ]
  },
  {
   "cell_type": "code",
   "execution_count": 14,
   "id": "d63ec899-bc06-4ff5-bfc8-8b8b2a638dcd",
   "metadata": {},
   "outputs": [],
   "source": [
    "import datetime"
   ]
  },
  {
   "cell_type": "code",
   "execution_count": 15,
   "id": "4e928d10-65e5-497f-800c-b59ccc548896",
   "metadata": {},
   "outputs": [
    {
     "name": "stdout",
     "output_type": "stream",
     "text": [
      "+----------+\n",
      "|     dates|\n",
      "+----------+\n",
      "|2025-02-28|\n",
      "|2025-03-01|\n",
      "|2025-03-02|\n",
      "|2025-03-03|\n",
      "|2025-03-04|\n",
      "+----------+\n",
      "only showing top 5 rows\n",
      "\n"
     ]
    }
   ],
   "source": [
    "base = datetime.date.today()          # get today's date\n",
    "# generate a list of dates starting from base(today's date) with a range of 10 days, repeat 10 times\n",
    "date_list = [base + datetime.timedelta(days=x) for x in list(range(0, 10))*10]\n",
    "# create a Pandas DateFrame with the generated list of dates under the column 'dates'\n",
    "pdf = pd.DataFrame({\n",
    "    'dates': date_list\n",
    "})\n",
    "# convert the Pandas DataFrame into a PySpark DataFrame\n",
    "df = spark.createDataFrame(pdf)\n",
    "df.show(5)"
   ]
  },
  {
   "cell_type": "code",
   "execution_count": 16,
   "id": "661663e6-abf4-43e0-a71d-5ed7189fb0c7",
   "metadata": {},
   "outputs": [
    {
     "name": "stdout",
     "output_type": "stream",
     "text": [
      "+----------+----------+\n",
      "|     dates| new_dates|\n",
      "+----------+----------+\n",
      "|2025-02-28|2025-04-28|\n",
      "|2025-03-01|2025-05-01|\n",
      "|2025-03-02|2025-05-02|\n",
      "|2025-03-03|2025-05-03|\n",
      "|2025-03-04|2025-05-04|\n",
      "+----------+----------+\n",
      "only showing top 5 rows\n",
      "\n"
     ]
    }
   ],
   "source": [
    "# add 2 months to the dates\n",
    "df.select('dates', add_months(df.dates, 2).alias('new_dates')).show(5)"
   ]
  },
  {
   "cell_type": "markdown",
   "id": "b8f466be-b9bf-40e0-8721-08f289e6d071",
   "metadata": {},
   "source": [
    "## approx_count_distinct\n",
    "estimate the approximate number of distint values in a column"
   ]
  },
  {
   "cell_type": "code",
   "execution_count": 17,
   "id": "0818d7ed-a76e-4c8c-bfb7-0abcf21d56ab",
   "metadata": {},
   "outputs": [
    {
     "name": "stderr",
     "output_type": "stream",
     "text": [
      "25/02/28 02:26:37 WARN SparkStringUtils: Truncated the string representation of a plan since it was too large. This behavior can be adjusted by setting 'spark.sql.debug.maxToStringFields'.\n"
     ]
    },
    {
     "name": "stdout",
     "output_type": "stream",
     "text": [
      "+------------------------------+\n",
      "|approx_count_distinct(gleason)|\n",
      "+------------------------------+\n",
      "|                             4|\n",
      "+------------------------------+\n",
      "\n"
     ]
    }
   ],
   "source": [
    "prostate.select(approx_count_distinct(prostate.gleason)).show(5)"
   ]
  },
  {
   "cell_type": "code",
   "execution_count": 18,
   "id": "afaebe73-bcfc-4280-b1e4-b20eab2d2cee",
   "metadata": {},
   "outputs": [
    {
     "name": "stdout",
     "output_type": "stream",
     "text": [
      "+------------------------------+\n",
      "|approx_count_distinct(species)|\n",
      "+------------------------------+\n",
      "|                             3|\n",
      "+------------------------------+\n",
      "\n"
     ]
    }
   ],
   "source": [
    "iris.select(approx_count_distinct(iris.species)).show(5)"
   ]
  },
  {
   "cell_type": "markdown",
   "id": "5b131e99-a35c-4328-897d-1fb7cf614d9d",
   "metadata": {},
   "source": [
    "## array"
   ]
  },
  {
   "cell_type": "code",
   "execution_count": 19,
   "id": "0bf61a44-ba1e-443e-97b5-4b44d24e7148",
   "metadata": {},
   "outputs": [
    {
     "name": "stdout",
     "output_type": "stream",
     "text": [
      "+------------+-----------+------------+-----------+-------+\n",
      "|sepal_length|sepal_width|petal_length|petal_width|species|\n",
      "+------------+-----------+------------+-----------+-------+\n",
      "|         5.1|        3.5|         1.4|        0.2| setosa|\n",
      "|         4.9|        3.0|         1.4|        0.2| setosa|\n",
      "|         4.7|        3.2|         1.3|        0.2| setosa|\n",
      "|         4.6|        3.1|         1.5|        0.2| setosa|\n",
      "|         5.0|        3.6|         1.4|        0.2| setosa|\n",
      "+------------+-----------+------------+-----------+-------+\n",
      "only showing top 5 rows\n",
      "\n"
     ]
    }
   ],
   "source": [
    "iris.show(5)"
   ]
  },
  {
   "cell_type": "code",
   "execution_count": 20,
   "id": "b31122f7-44f4-4299-99d9-75d1308af71f",
   "metadata": {},
   "outputs": [
    {
     "name": "stdout",
     "output_type": "stream",
     "text": [
      "+-------+--------------------+\n",
      "|species|            features|\n",
      "+-------+--------------------+\n",
      "| setosa|[5.1, 3.5, 1.4, 0.2]|\n",
      "| setosa|[4.9, 3.0, 1.4, 0.2]|\n",
      "| setosa|[4.7, 3.2, 1.3, 0.2]|\n",
      "| setosa|[4.6, 3.1, 1.5, 0.2]|\n",
      "| setosa|[5.0, 3.6, 1.4, 0.2]|\n",
      "+-------+--------------------+\n",
      "only showing top 5 rows\n",
      "\n"
     ]
    }
   ],
   "source": [
    "# create a new column that contains an array of the four feature columns\n",
    "df_arr = iris.select('species', array(['sepal_length', 'sepal_width', 'petal_length', 'petal_width']).alias('features'))\n",
    "df_arr.show(5)"
   ]
  },
  {
   "cell_type": "markdown",
   "id": "a15c7439-1256-4a61-b40c-ada46a7acd0e",
   "metadata": {},
   "source": [
    "## array_contains"
   ]
  },
  {
   "cell_type": "code",
   "execution_count": 22,
   "id": "451db789-8e21-4b7c-a183-4ed068d2cb48",
   "metadata": {},
   "outputs": [
    {
     "name": "stdout",
     "output_type": "stream",
     "text": [
      "+-------+--------------------+------------+\n",
      "|species|            features|new_features|\n",
      "+-------+--------------------+------------+\n",
      "| setosa|[5.1, 3.5, 1.4, 0.2]|        true|\n",
      "| setosa|[4.9, 3.0, 1.4, 0.2]|        true|\n",
      "| setosa|[4.7, 3.2, 1.3, 0.2]|       false|\n",
      "| setosa|[4.6, 3.1, 1.5, 0.2]|       false|\n",
      "| setosa|[5.0, 3.6, 1.4, 0.2]|        true|\n",
      "+-------+--------------------+------------+\n",
      "only showing top 5 rows\n",
      "\n"
     ]
    }
   ],
   "source": [
    "# create a new column that holds a boolean value wheterh a specific value exists within the features array column\n",
    "df = df_arr.select('species', 'features', array_contains(df_arr.features, 1.4).alias('new_features'))\n",
    "df.show(5)"
   ]
  },
  {
   "cell_type": "code",
   "execution_count": 23,
   "id": "f84beedd-4498-4c3d-a870-f35a925ede62",
   "metadata": {},
   "outputs": [
    {
     "name": "stdout",
     "output_type": "stream",
     "text": [
      "+-------+--------------------+------------+\n",
      "|species|            features|new_features|\n",
      "+-------+--------------------+------------+\n",
      "| setosa|[5.1, 3.5, 1.4, 0.2]|        true|\n",
      "| setosa|[4.9, 3.0, 1.4, 0.2]|        true|\n",
      "| setosa|[5.0, 3.6, 1.4, 0.2]|        true|\n",
      "| setosa|[4.6, 3.4, 1.4, 0.3]|        true|\n",
      "| setosa|[4.4, 2.9, 1.4, 0.2]|        true|\n",
      "+-------+--------------------+------------+\n",
      "only showing top 5 rows\n",
      "\n"
     ]
    }
   ],
   "source": [
    "# filter the rows where the new_features column is True\n",
    "df.filter(df.new_features).show(5)"
   ]
  },
  {
   "cell_type": "markdown",
   "id": "f5df78f5-f7bb-4704-8298-178548233e14",
   "metadata": {},
   "source": [
    "## asc\n",
    "asc returns a **sort expression**, which can be used as argument of sort functions \n",
    "such as pyspark.sql.DataFrame.sort and pyspark.sql.DataFrame.orderBy"
   ]
  },
  {
   "cell_type": "code",
   "execution_count": 24,
   "id": "211a6bda-c8ac-4a72-8faf-0d550644d127",
   "metadata": {},
   "outputs": [
    {
     "name": "stdout",
     "output_type": "stream",
     "text": [
      "+------------+-----------+---+------------+---+------------+-------+-----+------------+\n",
      "|      lcavol|    lweight|age|        lbph|svi|         lcp|gleason|pgg45|        lpsa|\n",
      "+------------+-----------+---+------------+---+------------+-------+-----+------------+\n",
      "|-0.579818495|2.769458829| 50|-1.386294361|  0|-1.386294361|      6|    0|-0.430782916|\n",
      "|-0.994252273|3.319625728| 58|-1.386294361|  0|-1.386294361|      6|    0|-0.162518929|\n",
      "|-0.510825624|2.691243083| 74|-1.386294361|  0|-1.386294361|      7|   20|-0.162518929|\n",
      "|-1.203972804|3.282789151| 58|-1.386294361|  0|-1.386294361|      6|    0|-0.162518929|\n",
      "| 0.751416089|3.432372999| 62|-1.386294361|  0|-1.386294361|      6|    0| 0.371563556|\n",
      "+------------+-----------+---+------------+---+------------+-------+-----+------------+\n",
      "only showing top 5 rows\n",
      "\n"
     ]
    }
   ],
   "source": [
    "# sort prostate by lpsa column in ascending order\n",
    "prostate.sort(prostate.lpsa.asc()).show(5)"
   ]
  },
  {
   "cell_type": "code",
   "execution_count": 25,
   "id": "63cb523d-0993-4e5f-b291-f8783fded62f",
   "metadata": {},
   "outputs": [
    {
     "name": "stdout",
     "output_type": "stream",
     "text": [
      "+------------+-----------+---+------------+---+------------+-------+-----+------------+\n",
      "|      lcavol|    lweight|age|        lbph|svi|         lcp|gleason|pgg45|        lpsa|\n",
      "+------------+-----------+---+------------+---+------------+-------+-----+------------+\n",
      "|-0.579818495|2.769458829| 50|-1.386294361|  0|-1.386294361|      6|    0|-0.430782916|\n",
      "|-0.994252273|3.319625728| 58|-1.386294361|  0|-1.386294361|      6|    0|-0.162518929|\n",
      "|-0.510825624|2.691243083| 74|-1.386294361|  0|-1.386294361|      7|   20|-0.162518929|\n",
      "|-1.203972804|3.282789151| 58|-1.386294361|  0|-1.386294361|      6|    0|-0.162518929|\n",
      "| 0.751416089|3.432372999| 62|-1.386294361|  0|-1.386294361|      6|    0| 0.371563556|\n",
      "+------------+-----------+---+------------+---+------------+-------+-----+------------+\n",
      "only showing top 5 rows\n",
      "\n"
     ]
    }
   ],
   "source": [
    "prostate.orderBy(prostate.lpsa.asc()).show(5)"
   ]
  },
  {
   "cell_type": "markdown",
   "id": "15266a1a-ed4d-43be-b4db-f0222e39b54a",
   "metadata": {},
   "source": [
    "* ascii  # ASCII of a string and replaces any non-ASCI characters with escape sequences\n",
    "* asin   # arc sine\n",
    "* atan   # arc tangent\n",
    "* atan2  # arc tangent of two variables"
   ]
  },
  {
   "cell_type": "markdown",
   "id": "0b36a3a0-c9ef-448d-a9d2-787abc06085a",
   "metadata": {},
   "source": [
    "## avg"
   ]
  },
  {
   "cell_type": "code",
   "execution_count": 26,
   "id": "d9264e69-8de9-4ef4-9d98-7aa51c9a3554",
   "metadata": {},
   "outputs": [
    {
     "name": "stdout",
     "output_type": "stream",
     "text": [
      "+------------------+\n",
      "|         avg(lpsa)|\n",
      "+------------------+\n",
      "|2.4783868787422683|\n",
      "+------------------+\n",
      "\n"
     ]
    }
   ],
   "source": [
    "# the average(mean) of the values in the lpsa column of prostate\n",
    "prostate.select(avg(prostate.lpsa)).show()"
   ]
  },
  {
   "cell_type": "markdown",
   "id": "3176cc19-4029-49e7-ac8f-ae43271765e3",
   "metadata": {},
   "source": [
    "* base64      # encode binary type into base64 string\n",
    "* bin         # convert a number into its binary string\n",
    "* bitwiseNOT  # invert all the bits in a number\n",
    "* broadcast   # optimizes join operations by broadcasting smaller DataFrames \n",
    "* bround      # round to the specified decimal point"
   ]
  },
  {
   "cell_type": "markdown",
   "id": "9114f6bf-441b-4ee4-a1e8-af22af9eb084",
   "metadata": {},
   "source": [
    "## cbrt"
   ]
  },
  {
   "cell_type": "code",
   "execution_count": 27,
   "id": "db724bcf-c9b3-4e5f-b060-83586e05e705",
   "metadata": {},
   "outputs": [
    {
     "name": "stdout",
     "output_type": "stream",
     "text": [
      "+------------+-------------------+\n",
      "|        lpsa|         CBRT(lpsa)|\n",
      "+------------+-------------------+\n",
      "|-0.430782916|-0.7552420410177275|\n",
      "|-0.162518929|-0.5457176294010901|\n",
      "|-0.162518929|-0.5457176294010901|\n",
      "|-0.162518929|-0.5457176294010901|\n",
      "| 0.371563556| 0.7189152621521183|\n",
      "+------------+-------------------+\n",
      "only showing top 5 rows\n",
      "\n"
     ]
    }
   ],
   "source": [
    "# the cube root of the lpsa column of prostate\n",
    "prostate.select('lpsa', cbrt(prostate.lpsa)).show(5)"
   ]
  },
  {
   "cell_type": "markdown",
   "id": "54374c27-2976-486a-8d0a-707887f4ddeb",
   "metadata": {},
   "source": [
    "## ceil"
   ]
  },
  {
   "cell_type": "code",
   "execution_count": 28,
   "id": "94c68c50-ffc7-463b-b65f-033e61f1fd52",
   "metadata": {},
   "outputs": [
    {
     "name": "stdout",
     "output_type": "stream",
     "text": [
      "+------------+----------+\n",
      "|        lpsa|CEIL(lpsa)|\n",
      "+------------+----------+\n",
      "|-0.430782916|         0|\n",
      "|-0.162518929|         0|\n",
      "|-0.162518929|         0|\n",
      "|-0.162518929|         0|\n",
      "| 0.371563556|         1|\n",
      "+------------+----------+\n",
      "only showing top 5 rows\n",
      "\n"
     ]
    }
   ],
   "source": [
    "# the ceiling of the lpsa column of prostate\n",
    "prostate.select('lpsa', ceil(prostate.lpsa)).show(5)"
   ]
  },
  {
   "cell_type": "markdown",
   "id": "18c8694d-1b83-4e48-8e23-1dbcc49b9512",
   "metadata": {},
   "source": [
    "## coalesce\n",
    "Return the first column that is not null."
   ]
  },
  {
   "cell_type": "code",
   "execution_count": 29,
   "id": "ed580d81-1373-4773-8d0c-58ca47ab7679",
   "metadata": {},
   "outputs": [
    {
     "name": "stdout",
     "output_type": "stream",
     "text": [
      "+----+----+\n",
      "|   a|   b|\n",
      "+----+----+\n",
      "|NULL|NULL|\n",
      "|   1|NULL|\n",
      "|NULL|   2|\n",
      "+----+----+\n",
      "\n"
     ]
    }
   ],
   "source": [
    "df = spark.createDataFrame([(None, None), (1, None), (None, 2)], ('a', 'b'))\n",
    "df.show()"
   ]
  },
  {
   "cell_type": "code",
   "execution_count": 30,
   "id": "223f300f-11b1-47b0-859c-0d9bca8216ad",
   "metadata": {},
   "outputs": [
    {
     "name": "stdout",
     "output_type": "stream",
     "text": [
      "+--------------+\n",
      "|coalesce(a, b)|\n",
      "+--------------+\n",
      "|          NULL|\n",
      "|             1|\n",
      "|             2|\n",
      "+--------------+\n",
      "\n"
     ]
    }
   ],
   "source": [
    "df.select(coalesce(df.a, df.b)).show()"
   ]
  },
  {
   "cell_type": "markdown",
   "id": "ec6f289e-5675-4945-b03b-50dbd7e89cc6",
   "metadata": {},
   "source": [
    "## col\n",
    "Returns a **Column** based on the given column name. \n",
    "It can save your some typing when the dataframe is very long."
   ]
  },
  {
   "cell_type": "code",
   "execution_count": 31,
   "id": "127baeac-2b66-455f-ac18-cc9fddffa212",
   "metadata": {},
   "outputs": [
    {
     "name": "stdout",
     "output_type": "stream",
     "text": [
      "+------------+-----------+---+------------+---+------------+-------+-----+------------+\n",
      "|      lcavol|    lweight|age|        lbph|svi|         lcp|gleason|pgg45|        lpsa|\n",
      "+------------+-----------+---+------------+---+------------+-------+-----+------------+\n",
      "|-0.579818495|2.769458829| 50|-1.386294361|  0|-1.386294361|      6|    0|-0.430782916|\n",
      "|-0.994252273|3.319625728| 58|-1.386294361|  0|-1.386294361|      6|    0|-0.162518929|\n",
      "|-0.510825624|2.691243083| 74|-1.386294361|  0|-1.386294361|      7|   20|-0.162518929|\n",
      "|-1.203972804|3.282789151| 58|-1.386294361|  0|-1.386294361|      6|    0|-0.162518929|\n",
      "| 0.751416089|3.432372999| 62|-1.386294361|  0|-1.386294361|      6|    0| 0.371563556|\n",
      "+------------+-----------+---+------------+---+------------+-------+-----+------------+\n",
      "only showing top 5 rows\n",
      "\n"
     ]
    }
   ],
   "source": [
    "prostate.show(5)"
   ]
  },
  {
   "cell_type": "code",
   "execution_count": 32,
   "id": "1d614ded-7d0f-4069-a328-ac5b3fca0d9b",
   "metadata": {},
   "outputs": [
    {
     "name": "stdout",
     "output_type": "stream",
     "text": [
      "+------------+---+\n",
      "|      lcavol|age|\n",
      "+------------+---+\n",
      "|-0.579818495| 50|\n",
      "|-0.994252273| 58|\n",
      "|-0.510825624| 74|\n",
      "|-1.203972804| 58|\n",
      "| 0.751416089| 62|\n",
      "+------------+---+\n",
      "only showing top 5 rows\n",
      "\n"
     ]
    }
   ],
   "source": [
    "prostate.select(col('lcavol'), col('age')).show(5)"
   ]
  },
  {
   "cell_type": "markdown",
   "id": "fa1b93a4-6757-463e-98be-0577391a9d8c",
   "metadata": {},
   "source": [
    "## collect_list"
   ]
  },
  {
   "cell_type": "code",
   "execution_count": 34,
   "id": "d69120a9-8d7d-4411-8b50-9f903da65996",
   "metadata": {},
   "outputs": [
    {
     "name": "stdout",
     "output_type": "stream",
     "text": [
      "+---+\n",
      "|  x|\n",
      "+---+\n",
      "|  1|\n",
      "|  2|\n",
      "|  2|\n",
      "|  3|\n",
      "|  4|\n",
      "|  4|\n",
      "|  4|\n",
      "|  4|\n",
      "+---+\n",
      "\n"
     ]
    }
   ],
   "source": [
    "pdf = pd.DataFrame({\n",
    "    'x': [1,2,2,3,4,4,4,4]\n",
    "})\n",
    "df = spark.createDataFrame(pdf)\n",
    "df.show()"
   ]
  },
  {
   "cell_type": "code",
   "execution_count": 35,
   "id": "1ffad9fc-f25a-4e0c-a04c-5f33d3f04cbf",
   "metadata": {},
   "outputs": [
    {
     "name": "stdout",
     "output_type": "stream",
     "text": [
      "+--------------------+\n",
      "|     collect_list(x)|\n",
      "+--------------------+\n",
      "|[1, 2, 2, 3, 4, 4...|\n",
      "+--------------------+\n",
      "\n"
     ]
    }
   ],
   "source": [
    "# a list of all the values of x column\n",
    "df.select(collect_list(df.x)).show()"
   ]
  },
  {
   "cell_type": "markdown",
   "id": "098aee22-1572-44ad-adfd-1542ba46124b",
   "metadata": {},
   "source": [
    "## collect_set"
   ]
  },
  {
   "cell_type": "code",
   "execution_count": 36,
   "id": "0a5d0977-6833-4475-8638-80936396874e",
   "metadata": {},
   "outputs": [
    {
     "name": "stdout",
     "output_type": "stream",
     "text": [
      "+--------------+\n",
      "|collect_set(x)|\n",
      "+--------------+\n",
      "|  [1, 2, 3, 4]|\n",
      "+--------------+\n",
      "\n"
     ]
    }
   ],
   "source": [
    "# a list of all the distinct values of x column\n",
    "df.select(collect_set(df.x)).show()"
   ]
  },
  {
   "cell_type": "markdown",
   "id": "b220bd57-224f-46f1-8f48-b4b79721d451",
   "metadata": {},
   "source": [
    "## concat"
   ]
  },
  {
   "cell_type": "code",
   "execution_count": 37,
   "id": "e4186773-ad60-4b1f-94f8-8482aad05d8f",
   "metadata": {},
   "outputs": [
    {
     "name": "stdout",
     "output_type": "stream",
     "text": [
      "+---+---+\n",
      "|  x|  v|\n",
      "+---+---+\n",
      "|  a|  1|\n",
      "|  b|  2|\n",
      "+---+---+\n",
      "\n"
     ]
    }
   ],
   "source": [
    "df = spark.createDataFrame([['a', '1'], ['b', '2']], ['x', 'v'])\n",
    "df.show()"
   ]
  },
  {
   "cell_type": "code",
   "execution_count": 38,
   "id": "24acfa6d-9b39-4116-8ad1-f589188ccd80",
   "metadata": {},
   "outputs": [
    {
     "name": "stdout",
     "output_type": "stream",
     "text": [
      "+---+---+------------+\n",
      "|  x|  v|concate(x,v)|\n",
      "+---+---+------------+\n",
      "|  a|  1|          a1|\n",
      "|  b|  2|          b2|\n",
      "+---+---+------------+\n",
      "\n"
     ]
    }
   ],
   "source": [
    "# concatenate columns x and v into a new column\n",
    "df.select('x', 'v', concat(df.x, df.v).alias('concate(x,v)')).show()"
   ]
  },
  {
   "cell_type": "markdown",
   "id": "4ef5b44b-5560-4cfb-84b8-9fd0fc0fcbb7",
   "metadata": {},
   "source": [
    "## concat_ws"
   ]
  },
  {
   "cell_type": "code",
   "execution_count": 39,
   "id": "b7a994f3-3fa9-4032-9c11-ee0f81ae6575",
   "metadata": {},
   "outputs": [
    {
     "name": "stdout",
     "output_type": "stream",
     "text": [
      "+---+---+------------+\n",
      "|  x|  v|concate(x,v)|\n",
      "+---+---+------------+\n",
      "|  a|  1|         a_1|\n",
      "|  b|  2|         b_2|\n",
      "+---+---+------------+\n",
      "\n"
     ]
    }
   ],
   "source": [
    "# concatenate columns x and v using '_' as a separator into a new column\n",
    "df.select('x', 'v', concat_ws('_', df.x, df.v).alias('concate(x,v)')).show()"
   ]
  },
  {
   "cell_type": "markdown",
   "id": "efc33468-750e-4e44-b38a-9fd8de5cc28d",
   "metadata": {},
   "source": [
    "## conv\n",
    "convert a number from one base(radix) to another(like binary, decimal, hexadecimal)"
   ]
  },
  {
   "cell_type": "markdown",
   "id": "5855457c-7f4e-4ad8-a44e-b03678309211",
   "metadata": {},
   "source": [
    "## corr"
   ]
  },
  {
   "cell_type": "code",
   "execution_count": 40,
   "id": "0fddb65d-892d-4680-aefb-6ad43c8931e9",
   "metadata": {},
   "outputs": [
    {
     "name": "stdout",
     "output_type": "stream",
     "text": [
      "+------------+-----------+---+------------+---+------------+-------+-----+------------+\n",
      "|      lcavol|    lweight|age|        lbph|svi|         lcp|gleason|pgg45|        lpsa|\n",
      "+------------+-----------+---+------------+---+------------+-------+-----+------------+\n",
      "|-0.579818495|2.769458829| 50|-1.386294361|  0|-1.386294361|      6|    0|-0.430782916|\n",
      "|-0.994252273|3.319625728| 58|-1.386294361|  0|-1.386294361|      6|    0|-0.162518929|\n",
      "|-0.510825624|2.691243083| 74|-1.386294361|  0|-1.386294361|      7|   20|-0.162518929|\n",
      "|-1.203972804|3.282789151| 58|-1.386294361|  0|-1.386294361|      6|    0|-0.162518929|\n",
      "| 0.751416089|3.432372999| 62|-1.386294361|  0|-1.386294361|      6|    0| 0.371563556|\n",
      "+------------+-----------+---+------------+---+------------+-------+-----+------------+\n",
      "only showing top 5 rows\n",
      "\n"
     ]
    }
   ],
   "source": [
    "prostate.show(5)"
   ]
  },
  {
   "cell_type": "code",
   "execution_count": 41,
   "id": "9fd8a910-90f2-411a-b870-1b2f102ed66f",
   "metadata": {},
   "outputs": [
    {
     "name": "stdout",
     "output_type": "stream",
     "text": [
      "+-------------------+\n",
      "|    corr(age, lpsa)|\n",
      "+-------------------+\n",
      "|0.16959284228582772|\n",
      "+-------------------+\n",
      "\n"
     ]
    }
   ],
   "source": [
    "# pearson correlation coefficient between column age and lpsa\n",
    "prostate.select(corr(prostate.age, prostate.lpsa)).show(5)"
   ]
  },
  {
   "cell_type": "markdown",
   "id": "8b9218a7-67fb-40b7-91da-1be13d69bd88",
   "metadata": {},
   "source": [
    "## cos\n",
    "calculate the cosine of an angle(in radians)"
   ]
  },
  {
   "cell_type": "markdown",
   "id": "3b69ca5c-5298-4a24-a7f6-eef501ffdfad",
   "metadata": {},
   "source": [
    "## cosh\n",
    "compute the hyperbolic cosine of a number: $\\cosh(x) = \\frac{e^x + e^{-x}}{2}$"
   ]
  },
  {
   "cell_type": "markdown",
   "id": "702ce353-4f46-4d79-bac2-d2db304f1256",
   "metadata": {},
   "source": [
    "## count\n",
    "number of non-null rows in a column"
   ]
  },
  {
   "cell_type": "code",
   "execution_count": 44,
   "id": "7df84ef5-cc8a-4af0-b406-9cc3500dafa4",
   "metadata": {},
   "outputs": [
    {
     "name": "stdout",
     "output_type": "stream",
     "text": [
      "+-----------+\n",
      "|count(lpsa)|\n",
      "+-----------+\n",
      "|         97|\n",
      "+-----------+\n",
      "\n"
     ]
    }
   ],
   "source": [
    "prostate.select(count(prostate.lpsa)).show()"
   ]
  },
  {
   "cell_type": "markdown",
   "id": "51c2b3cd-6b5a-41ac-b171-55c933a7594f",
   "metadata": {},
   "source": [
    "## countDistinct"
   ]
  },
  {
   "cell_type": "code",
   "execution_count": 45,
   "id": "d915fd16-199b-4298-92ec-d2f52c948e51",
   "metadata": {},
   "outputs": [
    {
     "name": "stdout",
     "output_type": "stream",
     "text": [
      "+--------------+\n",
      "|count(species)|\n",
      "+--------------+\n",
      "|           150|\n",
      "+--------------+\n",
      "\n"
     ]
    }
   ],
   "source": [
    "iris.select(count(iris.species)).show()"
   ]
  },
  {
   "cell_type": "markdown",
   "id": "ed8fb6bc-9a29-4557-b242-9a2f7446e92c",
   "metadata": {},
   "source": [
    "## covar_pop\n",
    "**population covariance: $\\frac{1}{n}\\sum_{i=1}^n(x_{i} - \\bar{x})(y_{i} - \\bar{y})$"
   ]
  },
  {
   "cell_type": "code",
   "execution_count": 46,
   "id": "b89cc305-5731-45f9-9d1d-b7c7afa1e4f5",
   "metadata": {},
   "outputs": [
    {
     "name": "stdout",
     "output_type": "stream",
     "text": [
      "+--------------------+\n",
      "|covar_pop(age, lpsa)|\n",
      "+--------------------+\n",
      "|  1.4424746293984458|\n",
      "+--------------------+\n",
      "\n"
     ]
    }
   ],
   "source": [
    "prostate.select(covar_pop(prostate.age, prostate.lpsa)).show()"
   ]
  },
  {
   "cell_type": "markdown",
   "id": "fbe33085-779c-4655-b0d3-4f482a395f5c",
   "metadata": {},
   "source": [
    "## covar_samp\n",
    "**sample covariance:  $\\frac{1}{n-1}\\sum_{i=1}^n(x_{i} - \\bar{x})(y_{i} - \\bar{y})$"
   ]
  },
  {
   "cell_type": "code",
   "execution_count": 47,
   "id": "e6f246d5-a810-446c-91d3-210ef9fed258",
   "metadata": {},
   "outputs": [
    {
     "name": "stdout",
     "output_type": "stream",
     "text": [
      "+---------------------+\n",
      "|covar_samp(age, lpsa)|\n",
      "+---------------------+\n",
      "|   1.4575004067880128|\n",
      "+---------------------+\n",
      "\n"
     ]
    }
   ],
   "source": [
    "prostate.select(covar_samp(prostate.age, prostate.lpsa)).show()"
   ]
  },
  {
   "cell_type": "markdown",
   "id": "db4d5eed-7612-40b1-b336-9adb2ceaa6b1",
   "metadata": {},
   "source": [
    "## create_map"
   ]
  },
  {
   "cell_type": "code",
   "execution_count": 48,
   "id": "bbdecc1f-640c-46b5-8af3-27ef5adb953f",
   "metadata": {},
   "outputs": [
    {
     "name": "stdout",
     "output_type": "stream",
     "text": [
      "+------------+-----------+------------+-----------+-------+\n",
      "|sepal_length|sepal_width|petal_length|petal_width|species|\n",
      "+------------+-----------+------------+-----------+-------+\n",
      "|         5.1|        3.5|         1.4|        0.2| setosa|\n",
      "|         4.9|        3.0|         1.4|        0.2| setosa|\n",
      "|         4.7|        3.2|         1.3|        0.2| setosa|\n",
      "|         4.6|        3.1|         1.5|        0.2| setosa|\n",
      "|         5.0|        3.6|         1.4|        0.2| setosa|\n",
      "+------------+-----------+------------+-----------+-------+\n",
      "only showing top 5 rows\n",
      "\n"
     ]
    }
   ],
   "source": [
    "iris.show(5)"
   ]
  },
  {
   "cell_type": "code",
   "execution_count": 49,
   "id": "1126aa96-0350-41fb-b7f1-84a4f92590b7",
   "metadata": {},
   "outputs": [
    {
     "name": "stdout",
     "output_type": "stream",
     "text": [
      "+--------------------------+\n",
      "|map(species, sepal_length)|\n",
      "+--------------------------+\n",
      "|           {setosa -> 5.1}|\n",
      "|           {setosa -> 4.9}|\n",
      "|           {setosa -> 4.7}|\n",
      "|           {setosa -> 4.6}|\n",
      "|           {setosa -> 5.0}|\n",
      "+--------------------------+\n",
      "only showing top 5 rows\n",
      "\n"
     ]
    }
   ],
   "source": [
    "# map using 'species' as the key and 'sepal_length' as the value\n",
    "df = iris.select(create_map('species', 'sepal_length'))\n",
    "df.show(5)"
   ]
  },
  {
   "cell_type": "code",
   "execution_count": 50,
   "id": "66e9825c-0fde-4b98-8757-8446f1f9feba",
   "metadata": {},
   "outputs": [
    {
     "data": {
      "text/plain": [
       "[('map(species, sepal_length)', 'map<string,double>')]"
      ]
     },
     "execution_count": 50,
     "metadata": {},
     "output_type": "execute_result"
    }
   ],
   "source": [
    "df.dtypes"
   ]
  },
  {
   "cell_type": "markdown",
   "id": "7eec9078-9e61-4785-a2c7-90b8a68bcfa6",
   "metadata": {},
   "source": [
    "## cume_dist\n",
    "calculate the cumulative distribution of a column's values\n",
    "It returns the realative rank of a value in a dataset as a number between 0 and 1"
   ]
  },
  {
   "cell_type": "markdown",
   "id": "c4cd384d-36dd-43a3-bdb6-292cbd67e84c",
   "metadata": {},
   "source": [
    "## current_date"
   ]
  },
  {
   "cell_type": "code",
   "execution_count": 51,
   "id": "3d1e1ae1-8a4b-43ad-b167-b9a2d69409d4",
   "metadata": {},
   "outputs": [
    {
     "name": "stdout",
     "output_type": "stream",
     "text": [
      "+---+\n",
      "|  x|\n",
      "+---+\n",
      "|  1|\n",
      "|  2|\n",
      "|  3|\n",
      "|  4|\n",
      "+---+\n",
      "\n"
     ]
    }
   ],
   "source": [
    "df = spark.createDataFrame([[1],[2],[3],[4]], ['x'])\n",
    "df.show()"
   ]
  },
  {
   "cell_type": "code",
   "execution_count": 52,
   "id": "927e74fc-feab-49b7-bae2-89e9b227e902",
   "metadata": {},
   "outputs": [
    {
     "name": "stdout",
     "output_type": "stream",
     "text": [
      "+---+--------------+\n",
      "|  x|current_date()|\n",
      "+---+--------------+\n",
      "|  1|    2025-02-28|\n",
      "|  2|    2025-02-28|\n",
      "|  3|    2025-02-28|\n",
      "|  4|    2025-02-28|\n",
      "+---+--------------+\n",
      "\n"
     ]
    }
   ],
   "source": [
    "df.select('x', current_date()).show()"
   ]
  },
  {
   "cell_type": "markdown",
   "id": "5078a574-6561-4cb6-bba6-1a671eb0ac6e",
   "metadata": {},
   "source": [
    "## current_tmestamp"
   ]
  },
  {
   "cell_type": "code",
   "execution_count": 53,
   "id": "1ef809c8-e0ca-4837-ab9c-ce29e348fb7b",
   "metadata": {},
   "outputs": [
    {
     "name": "stdout",
     "output_type": "stream",
     "text": [
      "+---+-----------------------+\n",
      "|x  |current_timestamp()    |\n",
      "+---+-----------------------+\n",
      "|1  |2025-02-28 03:06:53.923|\n",
      "|2  |2025-02-28 03:06:53.923|\n",
      "|3  |2025-02-28 03:06:53.923|\n",
      "|4  |2025-02-28 03:06:53.923|\n",
      "+---+-----------------------+\n",
      "\n"
     ]
    }
   ],
   "source": [
    "df.select('x', current_timestamp()).show(truncate=False)"
   ]
  },
  {
   "cell_type": "markdown",
   "id": "daa1f4b5-5dde-43ab-a80d-cbedd0510fc9",
   "metadata": {},
   "source": [
    "## date_add"
   ]
  },
  {
   "cell_type": "code",
   "execution_count": 54,
   "id": "12f2dc8d-3cf2-4bf4-9651-33717103b534",
   "metadata": {},
   "outputs": [
    {
     "name": "stdout",
     "output_type": "stream",
     "text": [
      "+---+------------+\n",
      "|  x|current_date|\n",
      "+---+------------+\n",
      "|  1|  2025-02-28|\n",
      "|  2|  2025-02-28|\n",
      "|  3|  2025-02-28|\n",
      "|  4|  2025-02-28|\n",
      "+---+------------+\n",
      "\n"
     ]
    }
   ],
   "source": [
    "df2 = df.select('x', current_date().alias('current_date'))\n",
    "df2.show(5)"
   ]
  },
  {
   "cell_type": "code",
   "execution_count": 55,
   "id": "7fc223fd-8577-49b4-b957-4157cb2b66f5",
   "metadata": {},
   "outputs": [
    {
     "name": "stdout",
     "output_type": "stream",
     "text": [
      "+---+------------+--------------------------+\n",
      "|  x|current_date|date_add(current_date, 10)|\n",
      "+---+------------+--------------------------+\n",
      "|  1|  2025-02-28|                2025-03-10|\n",
      "|  2|  2025-02-28|                2025-03-10|\n",
      "|  3|  2025-02-28|                2025-03-10|\n",
      "|  4|  2025-02-28|                2025-03-10|\n",
      "+---+------------+--------------------------+\n",
      "\n"
     ]
    }
   ],
   "source": [
    "# add 10 days to the current date\n",
    "df2.select('x', 'current_date', date_add(df2.current_date, 10)).show()"
   ]
  },
  {
   "cell_type": "markdown",
   "id": "c958ebd5-91dc-4f46-9bac-8c7c7038ddeb",
   "metadata": {},
   "source": [
    "## date_format"
   ]
  },
  {
   "cell_type": "code",
   "execution_count": 56,
   "id": "7ffb730d-778b-4731-ab0e-88d1e1e7bb84",
   "metadata": {},
   "outputs": [
    {
     "name": "stdout",
     "output_type": "stream",
     "text": [
      "+---+------------+----------+\n",
      "|  x|current_date|  new_date|\n",
      "+---+------------+----------+\n",
      "|  1|  2025-02-28|02/28/2025|\n",
      "|  2|  2025-02-28|02/28/2025|\n",
      "|  3|  2025-02-28|02/28/2025|\n",
      "|  4|  2025-02-28|02/28/2025|\n",
      "+---+------------+----------+\n",
      "\n"
     ]
    }
   ],
   "source": [
    "df2.select('x', 'current_date', date_format('current_date', 'MM/dd/yyyy').alias('new_date')).show()"
   ]
  },
  {
   "cell_type": "code",
   "execution_count": null,
   "id": "bdd1ca9e-2398-44f4-8097-a7872b2ec226",
   "metadata": {},
   "outputs": [],
   "source": []
  }
 ],
 "metadata": {
  "kernelspec": {
   "display_name": "Python 3 (ipykernel)",
   "language": "python",
   "name": "python3"
  },
  "language_info": {
   "codemirror_mode": {
    "name": "ipython",
    "version": 3
   },
   "file_extension": ".py",
   "mimetype": "text/x-python",
   "name": "python",
   "nbconvert_exporter": "python",
   "pygments_lexer": "ipython3",
   "version": "3.9.18"
  }
 },
 "nbformat": 4,
 "nbformat_minor": 5
}
